{
 "cells": [
  {
   "cell_type": "code",
   "execution_count": 311,
   "id": "eab3fa9a",
   "metadata": {},
   "outputs": [],
   "source": [
    "import numpy as np\n",
    "\n",
    "from qiskit import QuantumCircuit, transpile\n",
    "from qiskit_aer import AerSimulator\n",
    "from qiskit.visualization import plot_distribution\n",
    "from qiskit.circuit.library import IGate"
   ]
  },
  {
   "cell_type": "markdown",
   "id": "66793a81",
   "metadata": {},
   "source": [
    "# Algoritmo de Grover\n",
    "\n",
    "## Algoritmo clássico\n",
    "\n",
    "A busca em uma lista não ordenada possui complexidade de tempo no pior caso em $O(n)$, em média, se o elemento procurado está na lista é necessário aproximadamente $\\frac{n}{2}$ comparações, sendo necessária uma comparação no melhor caso e $n$ comparações no pior caso.\n",
    "\n",
    "Abaixo é apresentado um algoritmo que varre a lista do primeiro ao último elemento em busca do valor pesquisado, neste caso, o valor 7."
   ]
  },
  {
   "cell_type": "code",
   "execution_count": 312,
   "id": "119fe0bc",
   "metadata": {},
   "outputs": [
    {
     "name": "stdout",
     "output_type": "stream",
     "text": [
      "[1, 3, 5, 2, 4, 9, 5, 8, 0, 7, 6]\n",
      "Winner found at index 9\n",
      "10 calls to Oracle used\n"
     ]
    }
   ],
   "source": [
    "my_list = [1, 3, 5, 2, 4, 9, 5, 8, 0, 7, 6]\n",
    "\n",
    "print(my_list)\n",
    "\n",
    "def the_oracle(my_input):\n",
    "    winner = 7\n",
    "    return my_input is winner\n",
    "\n",
    "for index, trial_number in enumerate(my_list):\n",
    "    if the_oracle(trial_number) is True:\n",
    "        print(f\"Winner found at index {index}\")\n",
    "        print(f\"{index+1} calls to Oracle used\")\n",
    "        break"
   ]
  },
  {
   "cell_type": "markdown",
   "id": "a32bf6c4",
   "metadata": {},
   "source": [
    "## Algoritmo de Grover\n",
    "\n",
    "### Introdução\n",
    "\n",
    "O algoritmo de Grover é um algoritmo quântico que executa em tempo $O(\\sqrt{N})$ (aproximadamente $\\frac{\\pi}{4}\\sqrt{N}$ iterações), com $N$ a quantidade de elementos da lista.\n",
    "\n",
    "Considere a lista abaixo:"
   ]
  },
  {
   "cell_type": "code",
   "execution_count": 313,
   "id": "08688687",
   "metadata": {},
   "outputs": [
    {
     "data": {
      "text/plain": [
       "[99, 4, -10, 5]"
      ]
     },
     "execution_count": 313,
     "metadata": {},
     "output_type": "execute_result"
    }
   ],
   "source": [
    "my_new_list = [99, 4, -10, 5]\n",
    "my_new_list"
   ]
  },
  {
   "cell_type": "markdown",
   "id": "73c08178",
   "metadata": {},
   "source": [
    "No algoritmo de Grover precisamos implementar um oráculo para o valor pesquisado. Ao invés de modelarmos o oráculo para indentificar um valor, como no exemplo anterior, vamos utilizar um índice da lista, por exemplo, suponha que o valor que queremos é o 5, nosso objetivo então é construir um oráculo para identificar se o valor recebido é 3 (índice para o valor 5).\n",
    "\n",
    "Como existem $N=4$ elementos na lista podemos modelar:\n",
    "\n",
    "- Índice $0 = (1, 0, 0, 0) = \\ket{00}$\n",
    "- Índice $1 = (0, 1, 0, 0) = \\ket{01}$\n",
    "- Índice $2 = (0, 0, 1, 0) = \\ket{10}$\n",
    "- Índice $3 = (0, 0, 0, 1) = \\ket{11}$\n",
    "\n",
    "assim, o item procurado passa a ser o valor $\\ket{\\omega}=\\ket{11}$ e precisamos de 2 qubits para o algoritmo.\n",
    "\n",
    "Além disso, podemos calcular quantas iterações são necessárias para o algoritmo:"
   ]
  },
  {
   "cell_type": "code",
   "execution_count": 314,
   "id": "8cf47884",
   "metadata": {},
   "outputs": [
    {
     "data": {
      "text/plain": [
       "np.float64(1.57)"
      ]
     },
     "execution_count": 314,
     "metadata": {},
     "output_type": "execute_result"
    }
   ],
   "source": [
    "N = 4\n",
    "\n",
    "iterations = (np.pi/4) * np.sqrt(N)\n",
    "\n",
    "np.round(iterations, 2)"
   ]
  },
  {
   "cell_type": "markdown",
   "id": "2394ba2b",
   "metadata": {},
   "source": [
    "Logo, precisamos de somente uma iteração."
   ]
  },
  {
   "cell_type": "markdown",
   "id": "4df455a3",
   "metadata": {},
   "source": [
    "### Construção do oráculo\n",
    "\n",
    "O código abaixo apresenta um exemplo de implementação do oráculo em sua versão clássica"
   ]
  },
  {
   "cell_type": "code",
   "execution_count": 315,
   "id": "95dd92ae",
   "metadata": {},
   "outputs": [
    {
     "name": "stdout",
     "output_type": "stream",
     "text": [
      "False\n",
      "False\n",
      "False\n",
      "True\n"
     ]
    }
   ],
   "source": [
    "def the_oracle(my_input):\n",
    "    return my_input == 3\n",
    "\n",
    "print(the_oracle(0))\n",
    "print(the_oracle(1))\n",
    "print(the_oracle(2))\n",
    "print(the_oracle(3))"
   ]
  },
  {
   "cell_type": "markdown",
   "id": "26aaa32f",
   "metadata": {},
   "source": [
    "A versão quântica do oráculo é modelada como o operador unitário para 2 qubits $\\operatorname{CZ_{0,1}}$ (qubit de controle $q_0$ e qubit alvo $q_1$).\n",
    "\n",
    "Podemos nos perguntar:\n",
    "\n",
    "por que a função `the_oracle` pode ser implementada desta forma?\n",
    "\n",
    "No algoritmo de Grover o oráculo é responsável por \"marcar\" o estado desejado (inversão de fase) enquanto mantém os demais estados inalterados. Se aplicarmos $\\operatorname{CZ_{0,1}}$ a cada um dos estados que representam os índices temos:\n",
    "\n",
    "$$\n",
    "\\operatorname{CZ_{0,1}}\\ket{q_1q_0} = \\begin{cases}\n",
    "    -\\ket{q_1q_0}, & \\text{se } q_0=1,q_1=1 \\\\\n",
    "    \\phantom{-}\\ket{q_1q_0}, & \\text{caso contrário}\n",
    "    \\end{cases}\n",
    "$$\n",
    "\n",
    "\n",
    "- $\\operatorname{CZ_{0,1}}\\ket{00} = \\ket{00}$\n",
    "- $\\operatorname{CZ_{0,1}}\\ket{01} = \\ket{01}$\n",
    "- $\\operatorname{CZ_{0,1}}\\ket{10} = \\ket{10}$\n",
    "- $\\operatorname{CZ_{0,1}}\\ket{11} = -\\ket{11}$\n",
    "\n",
    "Em geral, sendo $x_0$ o índice procurado\n",
    "\n",
    "$$\n",
    "U_{\\omega} \\ket{x} = \\begin{cases}\n",
    "    -\\ket{x}, & \\text{se } x = \\omega \\\\\n",
    "    \\phantom{-}\\ket{x}, & \\text{caso contrário}\n",
    "    \\end{cases}\n",
    "$$\n",
    "\n",
    "Que pode ser construído usando o operador\n",
    "$$\n",
    "U_{\\omega} = I - 2\\ket{\\omega}\\bra{\\omega},\n",
    "$$\n",
    "por exemplo, ao aplicarmos no estado procurado $\\ket{x_0}$\n",
    "$$\n",
    "U_{\\omega}(\\ket{\\omega}) = (I-2\\ket{\\omega}\\bra{\\omega})(\\ket{\\omega}) = I\\ket{\\omega} -2\\braket{\\omega|\\omega}\\ket{\\omega} = \\ket{\\omega} - 2\\ket{\\omega} = -\\ket{\\omega},\n",
    "$$\n",
    "e $\\ket{x_i}$, $x_i \\neq \\omega$\n",
    "\n",
    "$$\n",
    "U_{\\omega}(\\ket{x_i}) = (I-2\\ket{\\omega}\\bra{\\omega})(\\ket{x_i}) = I\\ket{x_i} -2\\cancel{\\braket{\\omega|x_i}}^0\\ket{\\omega} = \\ket{x_i}.\n",
    "$$\n",
    "\n",
    "Temos então o oráculo:"
   ]
  },
  {
   "cell_type": "code",
   "execution_count": 316,
   "id": "93236907",
   "metadata": {},
   "outputs": [
    {
     "data": {
      "image/png": "[encoded data removed]",
      "text/plain": [
       "<Figure size 203.683x200.667 with 1 Axes>"
      ]
     },
     "execution_count": 316,
     "metadata": {},
     "output_type": "execute_result"
    }
   ],
   "source": [
    "oracle = QuantumCircuit(2, name=\"Uω\")\n",
    "oracle.cz(0,1)\n",
    "\n",
    "oracle.draw(\"mpl\", style=\"iqp-dark\")"
   ]
  },
  {
   "cell_type": "markdown",
   "id": "cd584996",
   "metadata": {},
   "source": [
    "Após construção do oráculo, inicializamos o sistema como uma superposição uniforme de todos os estados\n",
    "\n",
    "$$\n",
    "\\ket{s} = \\frac{1}{\\sqrt{N}}\\sum_{x=0}^{N-1}\\ket{x}.\n",
    "$$\n",
    "No nosso caso,\n",
    "$$\n",
    "\\ket{s} = \\frac{1}{2}(\\ket{00}+\\ket{01}+\\ket{10}+\\ket{11}).\n",
    "$$\n",
    "Isso pode ser feito aplicando o operador de Hadamard em em todos os qubits. Após a aplicação do operador de Hadamard, adicionamos o circuito criado para o oráculo no novo circuito"
   ]
  },
  {
   "cell_type": "code",
   "execution_count": 317,
   "id": "81736123",
   "metadata": {},
   "outputs": [
    {
     "data": {
      "image/png": "[encoded data removed]",
      "text/plain": [
       "<Figure size 454.517x200.667 with 1 Axes>"
      ]
     },
     "execution_count": 317,
     "metadata": {},
     "output_type": "execute_result"
    }
   ],
   "source": [
    "grover_circ = QuantumCircuit(2)\n",
    "\n",
    "grover_circ.h([0,1])\n",
    "grover_circ.barrier(label=\"|s⟩\")\n",
    "grover_circ.append(oracle, [0,1])\n",
    "grover_circ.barrier(label=\"|t⟩\")\n",
    "\n",
    "grover_circ.draw(\"mpl\", style=\"iqp-dark\")"
   ]
  },
  {
   "cell_type": "markdown",
   "id": "8e165a39",
   "metadata": {},
   "source": [
    "Após a aplicação do oráculo temos o estado\n",
    "$$\n",
    "\\ket{t} = \\frac{1}{2}(\\ket{00}+\\ket{01}+\\ket{10}-\\ket{11})\n",
    "$$\n",
    "\n",
    "Vamos construir o circuito de difusão (ou reflexão). Sua forma geral é dada por\n",
    "$$\n",
    "U_s = 2\\ket{s}\\bra{s} - I,\n",
    "$$\n",
    "$U_s$ é a reflexão no eixo dado por $\\ket{s}$.\n",
    "\n",
    "No nosso cenário temos\n",
    "$$\n",
    "\\begin{align*}\n",
    "    U_s(\\ket{t}) &= (2\\ket{s}\\bra{s} - I)(\\ket{t})    \\\\\n",
    "                  &= 2\\braket{s|t}\\ket{s} - \\ket{t}   \\\\\n",
    "                  &= \\frac{1}{2}(\\braket{00|00} + \\braket{01|01}+ \\cancel{\\braket{10|10}} - \\cancel{\\braket{11|11}})\\ket{s} - \\ket{t} \\\\\n",
    "                  &= \\ket{s} - \\ket{t} \\\\\n",
    "                  &= \\frac{1}{2}(\\cancel{\\ket{00}}+\\cancel{\\ket{01}}+\\cancel{\\ket{10}}+\\ket{11}) - \\frac{1}{2}(\\cancel{\\ket{00}}+\\cancel{\\ket{01}}+\\cancel{\\ket{10}}-\\ket{11}) \\\\\n",
    "                  &= \\ket{11}\n",
    "\\end{align*}.\n",
    "$$\n",
    "\n",
    "Como calculamos anteriormente, apenas uma iteração, ou seja, uma aplicação do operador $\\operatorname{U_sU_{\\omega}}$ é necessária para chegar ao valor procurado.\n",
    "\n",
    "Para nosso caso, temos $\\operatorname{U_s}=\\operatorname{H^{\\otimes^2}}\\cdot\\operatorname{CZ_{0,1}}\\cdot\\operatorname{Z^{\\otimes^2}}\\cdot\\operatorname{H^{\\otimes^2}}$\n"
   ]
  },
  {
   "cell_type": "code",
   "execution_count": 318,
   "id": "5ce610a7",
   "metadata": {},
   "outputs": [
    {
     "data": {
      "image/png": "[encoded data removed]",
      "text/plain": [
       "<Figure size 454.517x200.667 with 1 Axes>"
      ]
     },
     "execution_count": 318,
     "metadata": {},
     "output_type": "execute_result"
    }
   ],
   "source": [
    "diffusion = QuantumCircuit(2, name='Us')\n",
    "\n",
    "diffusion.h([0,1])\n",
    "diffusion.z([0,1])\n",
    "diffusion.cz(0,1)\n",
    "diffusion.h([0,1])\n",
    "\n",
    "diffusion.draw(\"mpl\", style=\"iqp-dark\")"
   ]
  },
  {
   "cell_type": "code",
   "execution_count": 319,
   "id": "49f20e4d",
   "metadata": {},
   "outputs": [
    {
     "data": {
      "image/png": "[encoded data removed]",
      "text/plain": [
       "<Figure size 1039.79x284.278 with 1 Axes>"
      ]
     },
     "execution_count": 319,
     "metadata": {},
     "output_type": "execute_result"
    }
   ],
   "source": [
    "grover_circ = QuantumCircuit(2,2)\n",
    "grover_circ.h([0,1])\n",
    "grover_circ.barrier(label=\"|s⟩\")\n",
    "grover_circ.append(oracle, [0,1])\n",
    "grover_circ.barrier(label=\"|t⟩=Uω|s⟩\")\n",
    "grover_circ.append(diffusion, [0,1])\n",
    "grover_circ.barrier(label=\"Us|t⟩=UsUω|s⟩\")\n",
    "grover_circ.measure([0,1], [0,1])\n",
    "\n",
    "grover_circ.draw(\"mpl\", style=\"iqp-dark\")"
   ]
  },
  {
   "cell_type": "markdown",
   "id": "4736eea4",
   "metadata": {},
   "source": [
    "O circuito completo, expandido o oráculo e a reflexão pode ser visto a seguir"
   ]
  },
  {
   "cell_type": "code",
   "execution_count": 320,
   "id": "8436bf14",
   "metadata": {},
   "outputs": [
    {
     "data": {
      "image/png": "[encoded data removed]",
      "text/plain": [
       "<Figure size 1290.63x284.278 with 1 Axes>"
      ]
     },
     "execution_count": 320,
     "metadata": {},
     "output_type": "execute_result"
    }
   ],
   "source": [
    "grover_circ.decompose(gates_to_decompose=[\"Uω\", \"Us\"]).draw(output=\"mpl\", style=\"iqp-dark\")"
   ]
  },
  {
   "cell_type": "markdown",
   "id": "6301af14",
   "metadata": {},
   "source": [
    "Com o circuito completo podemos realizar as simulações utilizando um dos [simuladores](https://qiskit.github.io/qiskit-aer/tutorials/1_aersimulator.html) disponíveis."
   ]
  },
  {
   "cell_type": "code",
   "execution_count": 321,
   "id": "989fc788",
   "metadata": {},
   "outputs": [
    {
     "data": {
      "image/png": "[encoded data removed]",
      "text/plain": [
       "<Figure size 700x500 with 1 Axes>"
      ]
     },
     "execution_count": 321,
     "metadata": {},
     "output_type": "execute_result"
    }
   ],
   "source": [
    "sim_statevector = AerSimulator(method='statevector')\n",
    "grover_circ = transpile(grover_circ, sim_statevector)\n",
    "\n",
    "job_statevector = sim_statevector.run(grover_circ, shots=10000)\n",
    "dist = job_statevector.result().get_counts()\n",
    "\n",
    "plot_distribution(dist)"
   ]
  },
  {
   "cell_type": "markdown",
   "id": "43f2ce8f",
   "metadata": {},
   "source": [
    "### Considerações\n",
    "\n",
    "sendo $\\ket{\\omega}$ e $\\ket{s}$ conforme apresentados anteriormente, podemos tomar $\\ket{s'}$ um vetor unitário no plano dado por $\\ket{w}$ e $\\ket{s}$ tal que $\\ket{s'}\\perp \\ket{\\omega}$, ou seja,\n",
    "$$\n",
    "\\ket{s'} = \\frac{1}{\\sqrt{N-1}}\\sum_{x\\neq \\omega} \\ket{x},\n",
    "$$\n",
    "para nosso exemplo,\n",
    "$$\n",
    "\\ket{s'} = \\frac{1}{\\sqrt{3}}(\\ket{00}+\\ket{01}+\\ket{10}),\n",
    "$$\n",
    "$$\n",
    "\\braket{s|\\omega} = \\braket{s|11} = 0\n",
    "$$\n",
    "e\n",
    "$$\n",
    "\\braket{s|s'} = \\frac{N-1}{\\sqrt{N(N-1)}} = \\sqrt{\\frac{N-1}{N}}.\n",
    "$$\n",
    "\n",
    "O ângulo $\\alpha = \\theta/2$ entre $\\ket{s'}$ e $\\ket{s}$ é dado por\n",
    "$$\n",
    "\\braket{s|s'} = \\cancel{||s||\\cdot||s'||}^1\\cdot \\cos(\\alpha) = \\cos\\bigg(\\frac{\\theta}{2}\\bigg) = \\sqrt{\\frac{N-1}{N}} \\implies \\sin\\bigg(\\frac{\\theta}{2}\\bigg) = \\frac{1}{\\sqrt{N}}\n",
    "$$\n",
    "\n",
    "*(TODO: demonstrar número de iterações necessárias $\\approx \\frac{\\pi}{4}\\sqrt{N}$)*"
   ]
  },
  {
   "cell_type": "markdown",
   "id": "74e3729f",
   "metadata": {},
   "source": [
    "## Referências\n",
    "\n",
    "- [Wikipedia - Grover's Algorithm](https://en.wikipedia.org/wiki/Grover%27s_algorithm)\n",
    "- [Grovers Algorithm — Programming on Quantum Computers](https://www.youtube.com/watch?v=0RPFWZj7Jm0)\n",
    "- [Simuladores do Qiskit](https://qiskit.github.io/qiskit-aer/tutorials/1_aersimulator.html)\n",
    "- [IBM - Grover's algorithm](https://quantum.cloud.ibm.com/docs/en/tutorials/grovers-algorithm)\n",
    "- [2-Bit Example of Grover's Quantum Search Algorithm, Geometric Visualization, Quantum Circuit Diagram](https://www.youtube.com/watch?v=PJorOzsQ7FU)\n",
    "- [Mas o que é computação quântica? (Algoritmo de Grover)](https://www.youtube.com/watch?v=RQWpF2Gb-gU)"
   ]
  }
 ],
 "metadata": {
  "kernelspec": {
   "display_name": "venv",
   "language": "python",
   "name": "python3"
  },
  "language_info": {
   "codemirror_mode": {
    "name": "ipython",
    "version": 3
   },
   "file_extension": ".py",
   "mimetype": "text/x-python",
   "name": "python",
   "nbconvert_exporter": "python",
   "pygments_lexer": "ipython3",
   "version": "3.12.3"
  }
 },
 "nbformat": 4,
 "nbformat_minor": 5
}
