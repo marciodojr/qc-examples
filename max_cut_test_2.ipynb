{
 "cells": [
  {
   "cell_type": "code",
   "execution_count": 16,
   "id": "05bee5ae",
   "metadata": {},
   "outputs": [],
   "source": [
    "from qiskit import QuantumCircuit\n",
    "from qiskit.circuit import Parameter\n",
    "import numpy as np\n",
    "from qiskit import QuantumCircuit\n",
    "from qiskit.circuit.library import UnitaryGate\n",
    "from sympy import Matrix, eye, symbols, simplify\n",
    "from sympy.physics.quantum import TensorProduct\n",
    "from sympy.printing import latex\n",
    "from IPython.display import display, Math"
   ]
  },
  {
   "cell_type": "code",
   "execution_count": null,
   "id": "a911b9cd",
   "metadata": {},
   "outputs": [
    {
     "data": {
      "text/latex": [
       "$\\displaystyle H_C=\\left[\\begin{matrix}3 & 0 & 0 & 0 & 0 & 0 & 0 & 0\\\\0 & -1 & 0 & 0 & 0 & 0 & 0 & 0\\\\0 & 0 & -1 & 0 & 0 & 0 & 0 & 0\\\\0 & 0 & 0 & -1 & 0 & 0 & 0 & 0\\\\0 & 0 & 0 & 0 & -1 & 0 & 0 & 0\\\\0 & 0 & 0 & 0 & 0 & -1 & 0 & 0\\\\0 & 0 & 0 & 0 & 0 & 0 & -1 & 0\\\\0 & 0 & 0 & 0 & 0 & 0 & 0 & 3\\end{matrix}\\right]$"
      ],
      "text/plain": [
       "<IPython.core.display.Math object>"
      ]
     },
     "metadata": {},
     "output_type": "display_data"
    },
    {
     "data": {
      "text/latex": [
       "$\\displaystyle U_C=\\left[\\begin{matrix}e^{- 3 \\gamma} & 0 & 0 & 0 & 0 & 0 & 0 & 0\\\\0 & e^{\\gamma} & 0 & 0 & 0 & 0 & 0 & 0\\\\0 & 0 & e^{\\gamma} & 0 & 0 & 0 & 0 & 0\\\\0 & 0 & 0 & e^{\\gamma} & 0 & 0 & 0 & 0\\\\0 & 0 & 0 & 0 & e^{\\gamma} & 0 & 0 & 0\\\\0 & 0 & 0 & 0 & 0 & e^{\\gamma} & 0 & 0\\\\0 & 0 & 0 & 0 & 0 & 0 & e^{\\gamma} & 0\\\\0 & 0 & 0 & 0 & 0 & 0 & 0 & e^{- 3 \\gamma}\\end{matrix}\\right]$"
      ],
      "text/plain": [
       "<IPython.core.display.Math object>"
      ]
     },
     "metadata": {},
     "output_type": "display_data"
    }
   ],
   "source": [
    "# Pauli matrices\n",
    "Z = Matrix([[1, 0], [0, -1]])\n",
    "I = eye(2)\n",
    "\n",
    "# Z_i Z_j para 3 qubits\n",
    "Z0Z1 = TensorProduct(Z, Z, I)\n",
    "Z0Z2 = TensorProduct(Z, I, Z)\n",
    "Z1Z2 = TensorProduct(I, Z, Z)\n",
    "\n",
    "H_C = Z0Z1+Z0Z2+Z1Z2\n",
    "\n",
    "display(Math(r\"H_C=\" + latex(H_C)))\n",
    "\n",
    "# Symbolic gamma\n",
    "gamma = symbols('gamma', real=True)\n",
    "\n",
    "# # Exponentiate H_C\n",
    "U_C_expr = simplify(((-eye(8) * gamma) * H_C).exp())\n",
    "\n",
    "display(Math(r\"U_C=\" + latex(U_C_expr)))\n",
    "\n",
    "# # Convert symbolic expression to numpy function\n",
    "# gamma_val = np.pi / 3  # example value\n",
    "# U_C_func = lambdify(gamma, U_C_expr, 'numpy')\n",
    "# U_C_num = np.array(U_C_func(gamma_val)).astype(complex)\n",
    "\n",
    "# # Build quantum circuit and apply U_C\n",
    "# qc = QuantumCircuit(3)\n",
    "# qc.h([0, 1, 2])  # Initial Hadamards\n",
    "\n",
    "# # Add unitary from H_C\n",
    "# gate = UnitaryGate(U_C_num, label=\"U_C\")\n",
    "# qc.append(gate, [0, 1, 2])\n",
    "\n",
    "# qc.draw('mpl')"
   ]
  },
  {
   "cell_type": "code",
   "execution_count": 5,
   "id": "44de8b79",
   "metadata": {},
   "outputs": [
    {
     "data": {
      "image/png": "[encoded data removed]",
      "text/plain": [
       "<Figure size 1040x284.278 with 1 Axes>"
      ]
     },
     "execution_count": 5,
     "metadata": {},
     "output_type": "execute_result"
    }
   ],
   "source": [
    "# Parameters\n",
    "gamma = Parameter('γ')\n",
    "beta = Parameter('β')\n",
    "\n",
    "# Define graph K3 (complete graph with 3 nodes)\n",
    "edges = [(0, 1), (0, 2), (1, 2)]\n",
    "\n",
    "# Initialize quantum circuit\n",
    "n_qubits = 3\n",
    "qc = QuantumCircuit(n_qubits)\n",
    "\n",
    "# Step 1: Initial state - Hadamards on all qubits\n",
    "qc.h(range(n_qubits))\n",
    "\n",
    "# Step 2: Apply U_C = exp(-i γ H_C)\n",
    "for i, j in edges:\n",
    "    # For each edge, apply: exp(-i γ (I - Z_i Z_j)/2)\n",
    "    # Up to global phase, this becomes: exp(i γ Z_i Z_j)\n",
    "    qc.cx(i, j)\n",
    "    qc.rz(-2 * gamma, j)\n",
    "    qc.cx(i, j)\n",
    "\n",
    "# Step 3: Apply U_M = exp(-i β ∑ X_i) = Rx(2β) on each qubit\n",
    "for i in range(n_qubits):\n",
    "    qc.rx(2 * beta, i)\n",
    "\n",
    "qc.draw('mpl')"
   ]
  }
 ],
 "metadata": {
  "kernelspec": {
   "display_name": "venv",
   "language": "python",
   "name": "python3"
  },
  "language_info": {
   "codemirror_mode": {
    "name": "ipython",
    "version": 3
   },
   "file_extension": ".py",
   "mimetype": "text/x-python",
   "name": "python",
   "nbconvert_exporter": "python",
   "pygments_lexer": "ipython3",
   "version": "3.12.3"
  }
 },
 "nbformat": 4,
 "nbformat_minor": 5
}
