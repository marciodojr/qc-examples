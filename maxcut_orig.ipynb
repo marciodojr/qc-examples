{
 "cells": [
  {
   "cell_type": "markdown",
   "metadata": {},
   "source": [
    "# Max Cut\n",
    "\n",
    "- https://learning.quantum.ibm.com/tutorial/quantum-approximate-optimization-algorithm#step-1-map-classical-inputs-to-a-quantum-problem"
   ]
  },
  {
   "cell_type": "code",
   "execution_count": 3,
   "metadata": {},
   "outputs": [],
   "source": [
    "from qiskit.quantum_info import SparsePauliOp\n",
    "from sympy.printing import latex\n",
    "from IPython.display import display, Math, Latex\n",
    "from sympy import Matrix\n",
    "import rustworkx as rx\n",
    "from rustworkx.visualization import mpl_draw as draw_graph\n",
    "import numpy as np\n",
    "from sympy import eye, Matrix\n",
    "import sympy as sp\n",
    "from sympy.physics.quantum import TensorProduct"
   ]
  },
  {
   "cell_type": "code",
   "execution_count": 4,
   "metadata": {},
   "outputs": [
    {
     "data": {
      "image/png": "[encoded data removed]",
      "text/plain": [
       "<Figure size 640x480 with 1 Axes>"
      ]
     },
     "metadata": {},
     "output_type": "display_data"
    }
   ],
   "source": [
    "n = 5\n",
    " \n",
    "graph = rx.PyGraph()\n",
    "graph.add_nodes_from(np.arange(0, n, 1))\n",
    "edge_list = [\n",
    "    (0, 1, 1.0),\n",
    "    (0, 2, 1.0),\n",
    "    (0, 4, 1.0),\n",
    "    (1, 2, 1.0),\n",
    "    (2, 3, 1.0),\n",
    "    (3, 4, 1.0),\n",
    "]\n",
    "graph.add_edges_from(edge_list)\n",
    "draw_graph(graph, node_size=600, with_labels=True)"
   ]
  },
  {
   "cell_type": "code",
   "execution_count": 41,
   "metadata": {},
   "outputs": [
    {
     "data": {
      "text/latex": [
       "$\\displaystyle A=\\left[\\begin{matrix}0.0 & 1.0 & 1.0 & 0.0 & 1.0\\\\1.0 & 0.0 & 1.0 & 0.0 & 0.0\\\\1.0 & 1.0 & 0.0 & 1.0 & 0.0\\\\0.0 & 0.0 & 1.0 & 0.0 & 1.0\\\\1.0 & 0.0 & 0.0 & 1.0 & 0.0\\end{matrix}\\right]$"
      ],
      "text/plain": [
       "<IPython.core.display.Math object>"
      ]
     },
     "metadata": {},
     "output_type": "display_data"
    },
    {
     "data": {
      "text/latex": [
       "$\\displaystyle D=\\left[\\begin{matrix}3.0 & 0.0 & 0.0 & 0.0 & 0.0\\\\0.0 & 2.0 & 0.0 & 0.0 & 0.0\\\\0.0 & 0.0 & 3.0 & 0.0 & 0.0\\\\0.0 & 0.0 & 0.0 & 2.0 & 0.0\\\\0.0 & 0.0 & 0.0 & 0.0 & 2.0\\end{matrix}\\right]$"
      ],
      "text/plain": [
       "<IPython.core.display.Math object>"
      ]
     },
     "metadata": {},
     "output_type": "display_data"
    },
    {
     "data": {
      "text/latex": [
       "$\\displaystyle L=\\left[\\begin{matrix}3.0 & -1.0 & -1.0 & 0.0 & -1.0\\\\-1.0 & 2.0 & -1.0 & 0.0 & 0.0\\\\-1.0 & -1.0 & 3.0 & -1.0 & 0.0\\\\0.0 & 0.0 & -1.0 & 2.0 & -1.0\\\\-1.0 & 0.0 & 0.0 & -1.0 & 2.0\\end{matrix}\\right]$"
      ],
      "text/plain": [
       "<IPython.core.display.Math object>"
      ]
     },
     "metadata": {},
     "output_type": "display_data"
    }
   ],
   "source": [
    "# Matriz de adjacência (numpy.ndarray)\n",
    "A = rx.adjacency_matrix(graph, weight_fn=float)\n",
    "\n",
    "display(Math(r\"A=\" + latex(Matrix(A))))\n",
    "\n",
    "# Matriz de grau (diagonal)\n",
    "degrees = np.array(A.sum(axis=1)).flatten()\n",
    "D = np.diag(degrees)\n",
    "\n",
    "display(Math(r\"D=\" + latex(Matrix(D))))\n",
    "\n",
    "# Laplaciano\n",
    "L = D - A\n",
    "\n",
    "display(Math(r\"L=\" + latex(Matrix(L))))"
   ]
  },
  {
   "cell_type": "code",
   "execution_count": 67,
   "metadata": {},
   "outputs": [
    {
     "name": "stdout",
     "output_type": "stream",
     "text": [
      "Sum:  -2*x0*x1 - 2*x0*x2 - 2*x0*x3 - 2*x0*x4 + 4*x0 - 2*x1*x2 - 2*x1*x3 - 2*x1*x4 + 4*x1 - 2*x2*x3 - 2*x2*x4 + 4*x2 - 2*x3*x4 + 4*x3 + 4*x4\n",
      "QUBO:  -2.0*x0*x1 - 2.0*x0*x2 - 2.0*x0*x4 + 3.0*x0 - 2.0*x1*x2 + 2.0*x1 - 2.0*x2*x3 + 3.0*x2 - 2.0*x3*x4 + 2.0*x3 + 2.0*x4\n",
      "-2*x0*x3 + 1.0*x0 - 2*x1*x3 - 2*x1*x4 + 2.0*x1 - 2*x2*x4 + 1.0*x2 + 2.0*x3 + 2.0*x4\n"
     ]
    }
   ],
   "source": [
    "X = sp.symbols(f'x0:{n}')\n",
    "\n",
    "assumptions = {x**2: x for x in X}\n",
    "\n",
    "exprSum = 0\n",
    "for i in range(n):\n",
    "    for j in range(n):\n",
    "        exprSum += (X[i] + X[j] - 2 * X[i] * X[j])/2\n",
    "\n",
    "exprSum = exprSum.xreplace(assumptions)\n",
    "exprSum = sp.simplify(exprSum)\n",
    "\n",
    "print(\"Sum: \", exprSum)\n",
    "\n",
    "X_mat = Matrix(X)\n",
    "Q_mat = Matrix(L)\n",
    "\n",
    "exprQUBO = (X_mat.T * Q_mat * X_mat)[0]\n",
    "\n",
    "exprQUBO = sp.simplify(exprQUBO)\n",
    "exprQUBO = exprQUBO.xreplace(assumptions)\n",
    "\n",
    "print(\"QUBO: \", exprQUBO)\n",
    "\n",
    "print(sp.simplify(exprSum - exprQUBO))\n"
   ]
  },
  {
   "cell_type": "code",
   "execution_count": 4,
   "metadata": {},
   "outputs": [
    {
     "name": "stdout",
     "output_type": "stream",
     "text": [
      "(0, 1) :  ['Z', 'Z', 'I']\n",
      "(0, 2) :  ['Z', 'I', 'Z']\n",
      "(1, 2) :  ['I', 'Z', 'Z']\n",
      "\n",
      "max_cut_paulis:  [('IZZ', 1.0), ('ZIZ', 1.0), ('ZZI', 1.0)]\n"
     ]
    },
    {
     "data": {
      "text/latex": [
       "$\\displaystyle H_C=\\left[\\begin{matrix}3.0 & 0 & 0 & 0 & 0 & 0 & 0 & 0\\\\0 & -1.0 & 0 & 0 & 0 & 0 & 0 & 0\\\\0 & 0 & -1.0 & 0 & 0 & 0 & 0 & 0\\\\0 & 0 & 0 & -1.0 & 0 & 0 & 0 & 0\\\\0 & 0 & 0 & 0 & -1.0 & 0 & 0 & 0\\\\0 & 0 & 0 & 0 & 0 & -1.0 & 0 & 0\\\\0 & 0 & 0 & 0 & 0 & 0 & -1.0 & 0\\\\0 & 0 & 0 & 0 & 0 & 0 & 0 & 3.0\\end{matrix}\\right]$"
      ],
      "text/plain": [
       "<IPython.core.display.Math object>"
      ]
     },
     "metadata": {},
     "output_type": "display_data"
    }
   ],
   "source": [
    "def build_max_cut_paulis(graph: rx.PyGraph) -> list[tuple[str, float]]:\n",
    "    pauli_list = []\n",
    "    for edge in list(graph.edge_list()):\n",
    "        paulis = [\"I\"] * len(graph)\n",
    "        paulis[edge[0]], paulis[edge[1]] = \"Z\", \"Z\"\n",
    "\n",
    "        weight = graph.get_edge_data(edge[0], edge[1])\n",
    "\n",
    "        pauli_list.append((\"\".join(paulis)[::-1], weight))\n",
    "\n",
    "        print(edge,\": \", paulis)\n",
    "\n",
    "    return pauli_list\n",
    "\n",
    "max_cut_paulis = build_max_cut_paulis(graph)\n",
    "\n",
    "print(\"\\nmax_cut_paulis: \", max_cut_paulis)\n",
    "\n",
    "cost_hamiltonian = SparsePauliOp.from_list(max_cut_paulis)\n",
    "\n",
    "display(Math(r\"H_C=\" + latex(Matrix(cost_hamiltonian.to_matrix()))))"
   ]
  },
  {
   "cell_type": "markdown",
   "metadata": {},
   "source": [
    "O Hamiltoniano $H_c=\\sum_{i<j}Q_{ij}Z_iZ_j + \\sum_{i}b_iZ_i$ é dado por\n",
    "\n",
    "$$\n",
    "H_C = Q_{01}Z_0Z_1I + Q_{02}Z_0IZ_2 + Q_{12}IZ_1Z_2 + b_0Z_0II + b_1IZ_1I + b_2IIZ_2\n",
    "$$\n",
    "\n",
    "como $Q_{ij}=1$ e $Z_i=Z$ e para o problema do Max-Cut podemos tomar $b_i=0$\n",
    "\n",
    "- Se $b_i > 0$, então o sistema prefere que $x_i = 1$ $\\Rightarrow$ o vértice $i$ **tende a estar no lado \"1\" do corte**\n",
    "- Se $b_i < 0$, então o sistema prefere que $x_i = 0$ $\\Rightarrow$ o vértice $i$ **tende a estar no lado \"0\" do corte**\n",
    "\n",
    "Em outras palavras, adicionar um bias $b_i$ é equivalente a \"puxar\" o vértice $i$ para um lado específico do corte.\n",
    "\n",
    "Observações feitas, temos então\n",
    "\n",
    "$$\n",
    "H_C = ZZI + ZIZ + IZZ\n",
    "$$"
   ]
  },
  {
   "cell_type": "code",
   "execution_count": 5,
   "metadata": {},
   "outputs": [
    {
     "data": {
      "text/latex": [
       "$\\displaystyle H_C=\\left[\\begin{matrix}1 & 0 & 0 & 0 & 0 & 0 & 0 & 0\\\\0 & 1 & 0 & 0 & 0 & 0 & 0 & 0\\\\0 & 0 & -1 & 0 & 0 & 0 & 0 & 0\\\\0 & 0 & 0 & -1 & 0 & 0 & 0 & 0\\\\0 & 0 & 0 & 0 & -1 & 0 & 0 & 0\\\\0 & 0 & 0 & 0 & 0 & -1 & 0 & 0\\\\0 & 0 & 0 & 0 & 0 & 0 & 1 & 0\\\\0 & 0 & 0 & 0 & 0 & 0 & 0 & 1\\end{matrix}\\right]+\\left[\\begin{matrix}1 & 0 & 0 & 0 & 0 & 0 & 0 & 0\\\\0 & -1 & 0 & 0 & 0 & 0 & 0 & 0\\\\0 & 0 & 1 & 0 & 0 & 0 & 0 & 0\\\\0 & 0 & 0 & -1 & 0 & 0 & 0 & 0\\\\0 & 0 & 0 & 0 & -1 & 0 & 0 & 0\\\\0 & 0 & 0 & 0 & 0 & 1 & 0 & 0\\\\0 & 0 & 0 & 0 & 0 & 0 & -1 & 0\\\\0 & 0 & 0 & 0 & 0 & 0 & 0 & 1\\end{matrix}\\right]+\\left[\\begin{matrix}1 & 0 & 0 & 0 & 0 & 0 & 0 & 0\\\\0 & -1 & 0 & 0 & 0 & 0 & 0 & 0\\\\0 & 0 & 1 & 0 & 0 & 0 & 0 & 0\\\\0 & 0 & 0 & -1 & 0 & 0 & 0 & 0\\\\0 & 0 & 0 & 0 & -1 & 0 & 0 & 0\\\\0 & 0 & 0 & 0 & 0 & 1 & 0 & 0\\\\0 & 0 & 0 & 0 & 0 & 0 & -1 & 0\\\\0 & 0 & 0 & 0 & 0 & 0 & 0 & 1\\end{matrix}\\right]=\\left[\\begin{matrix}3 & 0 & 0 & 0 & 0 & 0 & 0 & 0\\\\0 & -1 & 0 & 0 & 0 & 0 & 0 & 0\\\\0 & 0 & -1 & 0 & 0 & 0 & 0 & 0\\\\0 & 0 & 0 & -1 & 0 & 0 & 0 & 0\\\\0 & 0 & 0 & 0 & -1 & 0 & 0 & 0\\\\0 & 0 & 0 & 0 & 0 & -1 & 0 & 0\\\\0 & 0 & 0 & 0 & 0 & 0 & -1 & 0\\\\0 & 0 & 0 & 0 & 0 & 0 & 0 & 3\\end{matrix}\\right]$"
      ],
      "text/plain": [
       "<IPython.core.display.Math object>"
      ]
     },
     "metadata": {},
     "output_type": "display_data"
    }
   ],
   "source": [
    "# Define Pauli matrices\n",
    "Z = Matrix([[1, 0], [0, -1]])\n",
    "I = eye(2)\n",
    "\n",
    "# Construct each term (3-qubit operators)\n",
    "ZZI = TensorProduct(Z, Z, I)\n",
    "ZIZ = TensorProduct(Z, I, Z)\n",
    "IZZ = TensorProduct(I, Z, Z)\n",
    "\n",
    "display(Math(r\"H_C=\" + latex(ZZI) + \"+\" + latex(ZIZ)+ \"+\" + latex(ZIZ) +'='+ latex(ZZI + ZIZ + IZZ)))"
   ]
  },
  {
   "cell_type": "markdown",
   "metadata": {},
   "source": [
    "Este Hamiltoniano tem a propriedade que seu estado base corresponde à solução que minimiza $f(x)$. Basta então construir um circuito que prepara o estado base de $H_c$.\n",
    "\n",
    "Vamos associar cada vértice com um estado $\\ket{0}$ ou $\\ket{1}$, onde cada valor denota o conjunto em que o vértice está. Nosso objetivo, é maximizar o número de arestas $(v_1, v_2)$ para o qual $v_1=\\ket{0}$ e $v_2=\\ket{1}$, ou vice-versa.\n",
    "\n",
    "Se associarmos $Z$ com cada qubit, onde\n",
    "\n",
    "$$\n",
    "Z\\ket{0} = \\ket{0}\n",
    "$$\n",
    "\n",
    "e\n",
    "\n",
    "$$\n",
    "Z\\ket{1} = -\\ket{1}\n",
    "$$\n",
    "\n",
    "então a aresta pertence ao corte se $(Z_1\\ket{v_1})\\cdot(Z_2\\ket{v_2})=-1$, conforme exemplo abaixo"
   ]
  },
  {
   "cell_type": "code",
   "execution_count": 37,
   "metadata": {},
   "outputs": [
    {
     "data": {
      "text/latex": [
       "\n",
       "\\begin{array}{|c|c|c|c|c|c|}\n",
       "\\hline\n",
       "\\text{Estado} & (Z_0\\ket{v_0})(Z_1\\ket{v_1}) & (Z_0\\ket{v_0})(Z_2\\ket{v_2}) & (Z_1\\ket{v_1})(Z_2\\ket{v_2}) & \\ket{0} & \\ket{1} \\\\\n",
       "\\hline\n",
       "|000\\rangle & (+1) \\cdot (+1) = +1 & (+1) \\cdot (+1) = +1 & (+1) \\cdot (+1) = +1 & \\{0, 1, 2\\} & \\emptyset \\\\\n",
       "|001\\rangle & (+1) \\cdot (+1) = +1 & (+1) \\cdot (-1) = -1 & (+1) \\cdot (-1) = -1 & \\{0, 1\\}    & \\{2\\} \\\\\n",
       "|010\\rangle & (+1) \\cdot (-1) = -1 & (+1) \\cdot (+1) = +1 & (-1) \\cdot (+1) = -1 & \\{0,2\\}     & \\{1\\} \\\\\n",
       "|011\\rangle & (+1) \\cdot (-1) = -1 & (+1) \\cdot (-1) = -1 & (-1) \\cdot (-1) = +1 & \\{0\\}       & \\{1,2\\} \\\\\n",
       "|100\\rangle & (-1) \\cdot (+1) = -1 & (-1) \\cdot (+1) = -1 & (+1) \\cdot (+1) = +1 & \\{1,2\\}     & \\{0\\} \\\\\n",
       "|101\\rangle & (-1) \\cdot (+1) = -1 & (-1) \\cdot (-1) = +1 & (+1) \\cdot (-1) = -1 & \\{1\\}       & \\{0,2\\} \\\\\n",
       "|110\\rangle & (-1) \\cdot (-1) = +1 & (-1) \\cdot (+1) = -1 & (-1) \\cdot (+1) = -1 & \\{2\\}       & \\{0,1\\} \\\\\n",
       "|111\\rangle & (-1) \\cdot (-1) = +1 & (-1) \\cdot (-1) = +1 & (-1) \\cdot (-1) = +1 & \\emptyset       & \\{0, 1, 2\\} \\\\\n",
       "\\hline\n",
       "\\end{array}\n"
      ],
      "text/plain": [
       "<IPython.core.display.Latex object>"
      ]
     },
     "metadata": {},
     "output_type": "display_data"
    }
   ],
   "source": [
    "latex = r\"\"\"\n",
    "\\begin{array}{|c|c|c|c|c|c|}\n",
    "\\hline\n",
    "\\text{Estado} & (Z_0\\ket{v_0})(Z_1\\ket{v_1}) & (Z_0\\ket{v_0})(Z_2\\ket{v_2}) & (Z_1\\ket{v_1})(Z_2\\ket{v_2}) & \\ket{0} & \\ket{1} \\\\\n",
    "\\hline\n",
    "|000\\rangle & (+1) \\cdot (+1) = +1 & (+1) \\cdot (+1) = +1 & (+1) \\cdot (+1) = +1 & \\{0, 1, 2\\} & \\emptyset \\\\\n",
    "|001\\rangle & (+1) \\cdot (+1) = +1 & (+1) \\cdot (-1) = -1 & (+1) \\cdot (-1) = -1 & \\{0, 1\\}    & \\{2\\} \\\\\n",
    "|010\\rangle & (+1) \\cdot (-1) = -1 & (+1) \\cdot (+1) = +1 & (-1) \\cdot (+1) = -1 & \\{0,2\\}     & \\{1\\} \\\\\n",
    "|011\\rangle & (+1) \\cdot (-1) = -1 & (+1) \\cdot (-1) = -1 & (-1) \\cdot (-1) = +1 & \\{0\\}       & \\{1,2\\} \\\\\n",
    "|100\\rangle & (-1) \\cdot (+1) = -1 & (-1) \\cdot (+1) = -1 & (+1) \\cdot (+1) = +1 & \\{1,2\\}     & \\{0\\} \\\\\n",
    "|101\\rangle & (-1) \\cdot (+1) = -1 & (-1) \\cdot (-1) = +1 & (+1) \\cdot (-1) = -1 & \\{1\\}       & \\{0,2\\} \\\\\n",
    "|110\\rangle & (-1) \\cdot (-1) = +1 & (-1) \\cdot (+1) = -1 & (-1) \\cdot (+1) = -1 & \\{2\\}       & \\{0,1\\} \\\\\n",
    "|111\\rangle & (-1) \\cdot (-1) = +1 & (-1) \\cdot (-1) = +1 & (-1) \\cdot (-1) = +1 & \\emptyset       & \\{0, 1, 2\\} \\\\\n",
    "\\hline\n",
    "\\end{array}\n",
    "\"\"\"\n",
    "\n",
    "display(Latex(latex))"
   ]
  },
  {
   "cell_type": "code",
   "execution_count": 82,
   "metadata": {},
   "outputs": [
    {
     "data": {
      "image/png": "[encoded data removed]",
      "text/plain": [
       "<Figure size 663.998x367.889 with 1 Axes>"
      ]
     },
     "execution_count": 82,
     "metadata": {},
     "output_type": "execute_result"
    }
   ],
   "source": [
    "from qiskit.circuit.library import QAOAAnsatz\n",
    "\n",
    "circuit = QAOAAnsatz(cost_operator=cost_hamiltonian, reps=2)\n",
    "circuit.measure_all()\n",
    "\n",
    "circuit.draw('mpl')"
   ]
  },
  {
   "cell_type": "code",
   "execution_count": 83,
   "metadata": {},
   "outputs": [
    {
     "data": {
      "text/plain": [
       "ParameterView([ParameterVectorElement(β[0]), ParameterVectorElement(β[1]), ParameterVectorElement(γ[0]), ParameterVectorElement(γ[1])])"
      ]
     },
     "execution_count": 83,
     "metadata": {},
     "output_type": "execute_result"
    }
   ],
   "source": [
    "circuit.parameters"
   ]
  },
  {
   "cell_type": "code",
   "execution_count": 84,
   "metadata": {},
   "outputs": [
    {
     "name": "stderr",
     "output_type": "stream",
     "text": [
      "/tmp/ipykernel_94539/886047420.py:4: DeprecationWarning: The \"ibm_quantum\" channel option is deprecated and will be sunset on 1 July. After this date, \"ibm_cloud\", \"ibm_quantum_platform\", and \"local\" will be the only valid channels. Open Plan users should migrate now.  All other users should review the migration guide (https://quantum.cloud.ibm.com/docs/migration-guides/classic-iqp-to-cloud-iqp)to learn when to migrate.\n",
      "  service = QiskitRuntimeService(channel='ibm_quantum')\n"
     ]
    },
    {
     "ename": "IBMNotAuthorizedError",
     "evalue": "'401 Client Error: Unauthorized for url: https://auth.quantum.ibm.com/api/users/loginWithToken. This version of platform has been sunset. Create an account or sign in to the upgraded IBM Quantum Platform at https://quantum.cloud.ibm.com, Error code: 3447.'",
     "output_type": "error",
     "traceback": [
      "\u001b[31m---------------------------------------------------------------------------\u001b[39m",
      "\u001b[31mHTTPError\u001b[39m                                 Traceback (most recent call last)",
      "\u001b[36mFile \u001b[39m\u001b[32m~/repositories/personal/qc-examples/venv/lib/python3.12/site-packages/qiskit_ibm_runtime/api/session.py:328\u001b[39m, in \u001b[36mRetrySession.request\u001b[39m\u001b[34m(self, method, url, bare, **kwargs)\u001b[39m\n\u001b[32m    327\u001b[39m     response = \u001b[38;5;28msuper\u001b[39m().request(method, final_url, headers=headers, **kwargs)\n\u001b[32m--> \u001b[39m\u001b[32m328\u001b[39m     \u001b[43mresponse\u001b[49m\u001b[43m.\u001b[49m\u001b[43mraise_for_status\u001b[49m\u001b[43m(\u001b[49m\u001b[43m)\u001b[49m\n\u001b[32m    329\u001b[39m \u001b[38;5;28;01mexcept\u001b[39;00m RequestException \u001b[38;5;28;01mas\u001b[39;00m ex:\n\u001b[32m    330\u001b[39m     \u001b[38;5;66;03m# Wrap the requests exceptions into a IBM Q custom one, for\u001b[39;00m\n\u001b[32m    331\u001b[39m     \u001b[38;5;66;03m# compatibility.\u001b[39;00m\n",
      "\u001b[36mFile \u001b[39m\u001b[32m~/repositories/personal/qc-examples/venv/lib/python3.12/site-packages/requests/models.py:1026\u001b[39m, in \u001b[36mResponse.raise_for_status\u001b[39m\u001b[34m(self)\u001b[39m\n\u001b[32m   1025\u001b[39m \u001b[38;5;28;01mif\u001b[39;00m http_error_msg:\n\u001b[32m-> \u001b[39m\u001b[32m1026\u001b[39m     \u001b[38;5;28;01mraise\u001b[39;00m HTTPError(http_error_msg, response=\u001b[38;5;28mself\u001b[39m)\n",
      "\u001b[31mHTTPError\u001b[39m: 401 Client Error: Unauthorized for url: https://auth.quantum.ibm.com/api/users/loginWithToken",
      "\nThe above exception was the direct cause of the following exception:\n",
      "\u001b[31mIBMNotAuthorizedError\u001b[39m                     Traceback (most recent call last)",
      "\u001b[36mCell\u001b[39m\u001b[36m \u001b[39m\u001b[32mIn[84]\u001b[39m\u001b[32m, line 4\u001b[39m\n\u001b[32m      1\u001b[39m \u001b[38;5;28;01mfrom\u001b[39;00m\u001b[38;5;250m \u001b[39m\u001b[34;01mqiskit_ibm_runtime\u001b[39;00m\u001b[38;5;250m \u001b[39m\u001b[38;5;28;01mimport\u001b[39;00m QiskitRuntimeService\n\u001b[32m      2\u001b[39m \u001b[38;5;28;01mfrom\u001b[39;00m\u001b[38;5;250m \u001b[39m\u001b[34;01mqiskit\u001b[39;00m\u001b[34;01m.\u001b[39;00m\u001b[34;01mtranspiler\u001b[39;00m\u001b[34;01m.\u001b[39;00m\u001b[34;01mpreset_passmanagers\u001b[39;00m\u001b[38;5;250m \u001b[39m\u001b[38;5;28;01mimport\u001b[39;00m generate_preset_pass_manager\n\u001b[32m----> \u001b[39m\u001b[32m4\u001b[39m service = \u001b[43mQiskitRuntimeService\u001b[49m\u001b[43m(\u001b[49m\u001b[43mchannel\u001b[49m\u001b[43m=\u001b[49m\u001b[33;43m'\u001b[39;49m\u001b[33;43mibm_quantum\u001b[39;49m\u001b[33;43m'\u001b[39;49m\u001b[43m)\u001b[49m\n\u001b[32m      5\u001b[39m backend = service.least_busy(min_num_qubits=\u001b[32m127\u001b[39m)\n\u001b[32m      6\u001b[39m \u001b[38;5;28mprint\u001b[39m(backend)\n",
      "\u001b[36mFile \u001b[39m\u001b[32m~/repositories/personal/qc-examples/venv/lib/python3.12/site-packages/qiskit_ibm_runtime/qiskit_runtime_service.py:215\u001b[39m, in \u001b[36mQiskitRuntimeService.__init__\u001b[39m\u001b[34m(self, channel, token, url, filename, name, instance, proxies, verify, private_endpoint, url_resolver, region, plans_preference)\u001b[39m\n\u001b[32m    204\u001b[39m \u001b[38;5;28;01melse\u001b[39;00m:\n\u001b[32m    205\u001b[39m     warnings.warn(\n\u001b[32m    206\u001b[39m         \u001b[33m'\u001b[39m\u001b[33mThe \u001b[39m\u001b[33m\"\u001b[39m\u001b[33mibm_quantum\u001b[39m\u001b[33m\"\u001b[39m\u001b[33m channel option is deprecated and will be sunset on 1 July. \u001b[39m\u001b[33m'\u001b[39m\n\u001b[32m    207\u001b[39m         \u001b[33m'\u001b[39m\u001b[33mAfter this date, \u001b[39m\u001b[33m\"\u001b[39m\u001b[33mibm_cloud\u001b[39m\u001b[33m\"\u001b[39m\u001b[33m, \u001b[39m\u001b[33m\"\u001b[39m\u001b[33mibm_quantum_platform\u001b[39m\u001b[33m\"\u001b[39m\u001b[33m, and \u001b[39m\u001b[33m\"\u001b[39m\u001b[33mlocal\u001b[39m\u001b[33m\"\u001b[39m\u001b[33m will be the \u001b[39m\u001b[33m'\u001b[39m\n\u001b[32m   (...)\u001b[39m\u001b[32m    213\u001b[39m         stacklevel=\u001b[32m2\u001b[39m,\n\u001b[32m    214\u001b[39m     )\n\u001b[32m--> \u001b[39m\u001b[32m215\u001b[39m     auth_client = \u001b[38;5;28;43mself\u001b[39;49m\u001b[43m.\u001b[49m\u001b[43m_authenticate_ibm_quantum_account\u001b[49m\u001b[43m(\u001b[49m\u001b[38;5;28;43mself\u001b[39;49m\u001b[43m.\u001b[49m\u001b[43m_client_params\u001b[49m\u001b[43m)\u001b[49m\n\u001b[32m    216\u001b[39m     \u001b[38;5;66;03m# Update client parameters to use authenticated values.\u001b[39;00m\n\u001b[32m    217\u001b[39m     \u001b[38;5;28mself\u001b[39m._client_params.url = auth_client.current_service_urls()[\u001b[33m\"\u001b[39m\u001b[33mservices\u001b[39m\u001b[33m\"\u001b[39m][\u001b[33m\"\u001b[39m\u001b[33mruntime\u001b[39m\u001b[33m\"\u001b[39m]\n",
      "\u001b[36mFile \u001b[39m\u001b[32m~/repositories/personal/qc-examples/venv/lib/python3.12/site-packages/qiskit_ibm_runtime/qiskit_runtime_service.py:412\u001b[39m, in \u001b[36mQiskitRuntimeService._authenticate_ibm_quantum_account\u001b[39m\u001b[34m(self, client_params)\u001b[39m\n\u001b[32m    405\u001b[39m \u001b[38;5;28;01mif\u001b[39;00m \u001b[38;5;129;01mnot\u001b[39;00m version_info[\u001b[33m\"\u001b[39m\u001b[33mnew_api\u001b[39m\u001b[33m\"\u001b[39m] \u001b[38;5;129;01mor\u001b[39;00m \u001b[33m\"\u001b[39m\u001b[33mapi-auth\u001b[39m\u001b[33m\"\u001b[39m \u001b[38;5;129;01mnot\u001b[39;00m \u001b[38;5;129;01min\u001b[39;00m version_info:\n\u001b[32m    406\u001b[39m     \u001b[38;5;28;01mraise\u001b[39;00m IBMInputValueError(\n\u001b[32m    407\u001b[39m         \u001b[33m\"\u001b[39m\u001b[33mThe URL specified (\u001b[39m\u001b[38;5;132;01m{}\u001b[39;00m\u001b[33m) is not an IBM Quantum authentication URL. \u001b[39m\u001b[33m\"\u001b[39m\n\u001b[32m    408\u001b[39m         \u001b[33m\"\u001b[39m\u001b[33mValid authentication URL: \u001b[39m\u001b[38;5;132;01m{}\u001b[39;00m\u001b[33m.\u001b[39m\u001b[33m\"\u001b[39m.format(\n\u001b[32m    409\u001b[39m             client_params.url, QISKIT_IBM_RUNTIME_API_URL\n\u001b[32m    410\u001b[39m         )\n\u001b[32m    411\u001b[39m     )\n\u001b[32m--> \u001b[39m\u001b[32m412\u001b[39m auth_client = \u001b[43mAuthClient\u001b[49m\u001b[43m(\u001b[49m\u001b[43mclient_params\u001b[49m\u001b[43m)\u001b[49m\n\u001b[32m    413\u001b[39m service_urls = auth_client.current_service_urls()\n\u001b[32m    414\u001b[39m \u001b[38;5;28;01mif\u001b[39;00m \u001b[38;5;129;01mnot\u001b[39;00m service_urls.get(\u001b[33m\"\u001b[39m\u001b[33mservices\u001b[39m\u001b[33m\"\u001b[39m, {}).get(SERVICE_NAME):\n",
      "\u001b[36mFile \u001b[39m\u001b[32m~/repositories/personal/qc-examples/venv/lib/python3.12/site-packages/qiskit_ibm_runtime/api/clients/auth.py:39\u001b[39m, in \u001b[36mAuthClient.__init__\u001b[39m\u001b[34m(self, client_params)\u001b[39m\n\u001b[32m     36\u001b[39m \u001b[38;5;28mself\u001b[39m._service_urls = {}  \u001b[38;5;66;03m# type: ignore[var-annotated]\u001b[39;00m\n\u001b[32m     38\u001b[39m \u001b[38;5;28mself\u001b[39m.auth_api = Api(RetrySession(\u001b[38;5;28mself\u001b[39m.auth_url, **client_params.connection_parameters()))\n\u001b[32m---> \u001b[39m\u001b[32m39\u001b[39m \u001b[38;5;28mself\u001b[39m.base_api = \u001b[38;5;28;43mself\u001b[39;49m\u001b[43m.\u001b[49m\u001b[43m_init_service_clients\u001b[49m\u001b[43m(\u001b[49m\u001b[43m*\u001b[49m\u001b[43m*\u001b[49m\u001b[43mclient_params\u001b[49m\u001b[43m.\u001b[49m\u001b[43mconnection_parameters\u001b[49m\u001b[43m(\u001b[49m\u001b[43m)\u001b[49m\u001b[43m)\u001b[49m\n",
      "\u001b[36mFile \u001b[39m\u001b[32m~/repositories/personal/qc-examples/venv/lib/python3.12/site-packages/qiskit_ibm_runtime/api/clients/auth.py:51\u001b[39m, in \u001b[36mAuthClient._init_service_clients\u001b[39m\u001b[34m(self, **request_kwargs)\u001b[39m\n\u001b[32m     42\u001b[39m \u001b[38;5;250m\u001b[39m\u001b[33;03m\"\"\"Initialize the clients used for communicating with the API.\u001b[39;00m\n\u001b[32m     43\u001b[39m \n\u001b[32m     44\u001b[39m \u001b[33;03mArgs:\u001b[39;00m\n\u001b[32m   (...)\u001b[39m\u001b[32m     48\u001b[39m \u001b[33;03m    Client for the API server.\u001b[39;00m\n\u001b[32m     49\u001b[39m \u001b[33;03m\"\"\"\u001b[39;00m\n\u001b[32m     50\u001b[39m \u001b[38;5;66;03m# Request an access token.\u001b[39;00m\n\u001b[32m---> \u001b[39m\u001b[32m51\u001b[39m \u001b[38;5;28mself\u001b[39m.access_token = \u001b[38;5;28;43mself\u001b[39;49m\u001b[43m.\u001b[49m\u001b[43m_request_access_token\u001b[49m\u001b[43m(\u001b[49m\u001b[43m)\u001b[49m\n\u001b[32m     52\u001b[39m \u001b[38;5;28mself\u001b[39m.auth_api.session.auth = QuantumAuth(access_token=\u001b[38;5;28mself\u001b[39m.access_token)\n\u001b[32m     53\u001b[39m \u001b[38;5;28mself\u001b[39m._service_urls = \u001b[38;5;28mself\u001b[39m.user_urls()\n",
      "\u001b[36mFile \u001b[39m\u001b[32m~/repositories/personal/qc-examples/venv/lib/python3.12/site-packages/qiskit_ibm_runtime/api/clients/auth.py:77\u001b[39m, in \u001b[36mAuthClient._request_access_token\u001b[39m\u001b[34m(self)\u001b[39m\n\u001b[32m     67\u001b[39m \u001b[38;5;250m\u001b[39m\u001b[33;03m\"\"\"Request a new access token from the API authentication service.\u001b[39;00m\n\u001b[32m     68\u001b[39m \n\u001b[32m     69\u001b[39m \u001b[33;03mReturns:\u001b[39;00m\n\u001b[32m   (...)\u001b[39m\u001b[32m     74\u001b[39m \u001b[33;03m    RequestsApiError: If the request failed.\u001b[39;00m\n\u001b[32m     75\u001b[39m \u001b[33;03m\"\"\"\u001b[39;00m\n\u001b[32m     76\u001b[39m \u001b[38;5;28;01mtry\u001b[39;00m:\n\u001b[32m---> \u001b[39m\u001b[32m77\u001b[39m     response = \u001b[38;5;28;43mself\u001b[39;49m\u001b[43m.\u001b[49m\u001b[43mauth_api\u001b[49m\u001b[43m.\u001b[49m\u001b[43mlogin\u001b[49m\u001b[43m(\u001b[49m\u001b[38;5;28;43mself\u001b[39;49m\u001b[43m.\u001b[49m\u001b[43mapi_token\u001b[49m\u001b[43m)\u001b[49m\n\u001b[32m     78\u001b[39m     \u001b[38;5;28;01mreturn\u001b[39;00m response[\u001b[33m\"\u001b[39m\u001b[33mid\u001b[39m\u001b[33m\"\u001b[39m]\n\u001b[32m     79\u001b[39m \u001b[38;5;28;01mexcept\u001b[39;00m RequestsApiError \u001b[38;5;28;01mas\u001b[39;00m ex:\n\u001b[32m     80\u001b[39m     \u001b[38;5;66;03m# Get the original exception that raised.\u001b[39;00m\n",
      "\u001b[36mFile \u001b[39m\u001b[32m~/repositories/personal/qc-examples/venv/lib/python3.12/site-packages/qiskit_ibm_runtime/api/rest/root.py:93\u001b[39m, in \u001b[36mApi.login\u001b[39m\u001b[34m(self, api_token)\u001b[39m\n\u001b[32m     84\u001b[39m \u001b[38;5;250m\u001b[39m\u001b[33;03m\"\"\"Login with token.\u001b[39;00m\n\u001b[32m     85\u001b[39m \n\u001b[32m     86\u001b[39m \u001b[33;03mArgs:\u001b[39;00m\n\u001b[32m   (...)\u001b[39m\u001b[32m     90\u001b[39m \u001b[33;03m    JSON response.\u001b[39;00m\n\u001b[32m     91\u001b[39m \u001b[33;03m\"\"\"\u001b[39;00m\n\u001b[32m     92\u001b[39m url = \u001b[38;5;28mself\u001b[39m.get_url(\u001b[33m\"\u001b[39m\u001b[33mlogin\u001b[39m\u001b[33m\"\u001b[39m)\n\u001b[32m---> \u001b[39m\u001b[32m93\u001b[39m \u001b[38;5;28;01mreturn\u001b[39;00m \u001b[38;5;28;43mself\u001b[39;49m\u001b[43m.\u001b[49m\u001b[43msession\u001b[49m\u001b[43m.\u001b[49m\u001b[43mpost\u001b[49m\u001b[43m(\u001b[49m\n\u001b[32m     94\u001b[39m \u001b[43m    \u001b[49m\u001b[43murl\u001b[49m\u001b[43m,\u001b[49m\u001b[43m \u001b[49m\u001b[43mjson\u001b[49m\u001b[43m=\u001b[49m\u001b[43m{\u001b[49m\u001b[33;43m\"\u001b[39;49m\u001b[33;43mapiToken\u001b[39;49m\u001b[33;43m\"\u001b[39;49m\u001b[43m:\u001b[49m\u001b[43m \u001b[49m\u001b[43mapi_token\u001b[49m\u001b[43m}\u001b[49m\u001b[43m,\u001b[49m\u001b[43m \u001b[49m\u001b[43mheaders\u001b[49m\u001b[43m=\u001b[49m\u001b[38;5;28;43mself\u001b[39;49m\u001b[43m.\u001b[49m\u001b[43m_HEADER_JSON_CONTENT\u001b[49m\n\u001b[32m     95\u001b[39m \u001b[43m\u001b[49m\u001b[43m)\u001b[49m.json()\n",
      "\u001b[36mFile \u001b[39m\u001b[32m~/repositories/personal/qc-examples/venv/lib/python3.12/site-packages/requests/sessions.py:637\u001b[39m, in \u001b[36mSession.post\u001b[39m\u001b[34m(self, url, data, json, **kwargs)\u001b[39m\n\u001b[32m    626\u001b[39m \u001b[38;5;28;01mdef\u001b[39;00m\u001b[38;5;250m \u001b[39m\u001b[34mpost\u001b[39m(\u001b[38;5;28mself\u001b[39m, url, data=\u001b[38;5;28;01mNone\u001b[39;00m, json=\u001b[38;5;28;01mNone\u001b[39;00m, **kwargs):\n\u001b[32m    627\u001b[39m \u001b[38;5;250m    \u001b[39m\u001b[33mr\u001b[39m\u001b[33;03m\"\"\"Sends a POST request. Returns :class:`Response` object.\u001b[39;00m\n\u001b[32m    628\u001b[39m \n\u001b[32m    629\u001b[39m \u001b[33;03m    :param url: URL for the new :class:`Request` object.\u001b[39;00m\n\u001b[32m   (...)\u001b[39m\u001b[32m    634\u001b[39m \u001b[33;03m    :rtype: requests.Response\u001b[39;00m\n\u001b[32m    635\u001b[39m \u001b[33;03m    \"\"\"\u001b[39;00m\n\u001b[32m--> \u001b[39m\u001b[32m637\u001b[39m     \u001b[38;5;28;01mreturn\u001b[39;00m \u001b[38;5;28;43mself\u001b[39;49m\u001b[43m.\u001b[49m\u001b[43mrequest\u001b[49m\u001b[43m(\u001b[49m\u001b[33;43m\"\u001b[39;49m\u001b[33;43mPOST\u001b[39;49m\u001b[33;43m\"\u001b[39;49m\u001b[43m,\u001b[49m\u001b[43m \u001b[49m\u001b[43murl\u001b[49m\u001b[43m,\u001b[49m\u001b[43m \u001b[49m\u001b[43mdata\u001b[49m\u001b[43m=\u001b[49m\u001b[43mdata\u001b[49m\u001b[43m,\u001b[49m\u001b[43m \u001b[49m\u001b[43mjson\u001b[49m\u001b[43m=\u001b[49m\u001b[43mjson\u001b[49m\u001b[43m,\u001b[49m\u001b[43m \u001b[49m\u001b[43m*\u001b[49m\u001b[43m*\u001b[49m\u001b[43mkwargs\u001b[49m\u001b[43m)\u001b[49m\n",
      "\u001b[36mFile \u001b[39m\u001b[32m~/repositories/personal/qc-examples/venv/lib/python3.12/site-packages/qiskit_ibm_runtime/api/session.py:349\u001b[39m, in \u001b[36mRetrySession.request\u001b[39m\u001b[34m(self, method, url, bare, **kwargs)\u001b[39m\n\u001b[32m    347\u001b[39m         message += \u001b[33mf\u001b[39m\u001b[33m\"\u001b[39m\u001b[33m. \u001b[39m\u001b[38;5;132;01m{\u001b[39;00mex.response.text\u001b[38;5;132;01m}\u001b[39;00m\u001b[33m\"\u001b[39m\n\u001b[32m    348\u001b[39m \u001b[38;5;28;01mif\u001b[39;00m status_code == \u001b[32m401\u001b[39m:\n\u001b[32m--> \u001b[39m\u001b[32m349\u001b[39m     \u001b[38;5;28;01mraise\u001b[39;00m IBMNotAuthorizedError(message) \u001b[38;5;28;01mfrom\u001b[39;00m\u001b[38;5;250m \u001b[39m\u001b[34;01mex\u001b[39;00m\n\u001b[32m    350\u001b[39m \u001b[38;5;28;01mif\u001b[39;00m status_code == \u001b[32m503\u001b[39m:  \u001b[38;5;66;03m# Planned maintenance outage\u001b[39;00m\n\u001b[32m    351\u001b[39m     \u001b[38;5;28;01mraise\u001b[39;00m RequestsApiError(\n\u001b[32m    352\u001b[39m         \u001b[33m\"\u001b[39m\u001b[33mUnexpected response received from server. Please check if the service \u001b[39m\u001b[33m\"\u001b[39m\n\u001b[32m    353\u001b[39m         \u001b[33m\"\u001b[39m\u001b[33mis in maintenance mode \u001b[39m\u001b[33m\"\u001b[39m\n\u001b[32m    354\u001b[39m         \u001b[33mf\u001b[39m\u001b[33m\"\u001b[39m\u001b[33mhttps://docs.quantum.ibm.com/announcements/service-alerts \u001b[39m\u001b[38;5;132;01m{\u001b[39;00mmessage\u001b[38;5;132;01m}\u001b[39;00m\u001b[33m\"\u001b[39m\n\u001b[32m    355\u001b[39m     )\n",
      "\u001b[31mIBMNotAuthorizedError\u001b[39m: '401 Client Error: Unauthorized for url: https://auth.quantum.ibm.com/api/users/loginWithToken. This version of platform has been sunset. Create an account or sign in to the upgraded IBM Quantum Platform at https://quantum.cloud.ibm.com, Error code: 3447.'"
     ]
    }
   ],
   "source": [
    "from qiskit_ibm_runtime import QiskitRuntimeService\n",
    "from qiskit.transpiler.preset_passmanagers import generate_preset_pass_manager\n",
    "\n",
    "service = QiskitRuntimeService(channel='ibm_quantum')\n",
    "backend = service.least_busy(min_num_qubits=127)\n",
    "print(backend)\n",
    "\n",
    "pm = generate_preset_pass_manager(optimization_level=3,\n",
    "                                    backend=backend)\n",
    "\n",
    "candidate_circuit = pm.run(circuit)\n",
    "candidate_circuit.draw('mpl', fold=False, idle_wires=False)"
   ]
  },
  {
   "cell_type": "code",
   "execution_count": null,
   "metadata": {},
   "outputs": [],
   "source": [
    "initial_gamma = np.pi\n",
    "initial_beta = np.pi/2\n",
    "init_params = [initial_gamma, initial_beta, initial_gamma, initial_beta]"
   ]
  },
  {
   "cell_type": "code",
   "execution_count": null,
   "metadata": {},
   "outputs": [],
   "source": [
    "def cost_func_estimator(params, ansatz, hamiltonian, estimator):\n",
    "\n",
    "    # transform the observable defined on virtual qubits to\n",
    "    # an observable defined on all physical qubits\n",
    "    isa_hamiltonian = hamiltonian.apply_layout(ansatz.layout)\n",
    "\n",
    "    pub = (ansatz, isa_hamiltonian, params)\n",
    "    job = estimator.run([pub])\n",
    "\n",
    "    results = job.result()[0]\n",
    "    cost = results.data.evs\n",
    "\n",
    "    objective_func_vals.append(cost)\n",
    "\n",
    "\n",
    "    return cost"
   ]
  },
  {
   "cell_type": "code",
   "execution_count": null,
   "metadata": {},
   "outputs": [
    {
     "name": "stderr",
     "output_type": "stream",
     "text": [
      "/home/marcio/repositories/personal/qc-examples/venv/lib/python3.12/site-packages/qiskit_ibm_runtime/qiskit_runtime_service.py:1129: UserWarning: IBM Quantum Platform is moving, and this version will be sunset on July 1. To get started on the new platform, read the migration guide at https://docs.quantum.ibm.com/migration-guides/classic-iqp-to-cloud-iqp\n",
      "  warnings.warn(warning_message)\n",
      "capi_return is NULL\n",
      "Call-back cb_calcfc_in__cobyla__user__routines failed.\n"
     ]
    },
    {
     "ename": "IBMRuntimeError",
     "evalue": "'Failed to run program: \\'400 Client Error: Bad Request for url: https://api.quantum.ibm.com/runtime/jobs. {\"errors\":[{\"code\":1217,\"message\":\"Session has been closed.\",\"solution\":\"Reduce time between submitting subsequent jobs in a session.\",\"more_info\":\"https://docs.quantum-computing.ibm.com/errors\"}]}\\''",
     "output_type": "error",
     "traceback": [
      "\u001b[31m---------------------------------------------------------------------------\u001b[39m",
      "\u001b[31mIBMRuntimeError\u001b[39m                           Traceback (most recent call last)",
      "\u001b[36mCell\u001b[39m\u001b[36m \u001b[39m\u001b[32mIn[12]\u001b[39m\u001b[32m, line 16\u001b[39m\n\u001b[32m     13\u001b[39m estimator.options.twirling.enable_gates = \u001b[38;5;28;01mTrue\u001b[39;00m\n\u001b[32m     14\u001b[39m estimator.options.twirling.num_randomizations = \u001b[33m\"\u001b[39m\u001b[33mauto\u001b[39m\u001b[33m\"\u001b[39m\n\u001b[32m---> \u001b[39m\u001b[32m16\u001b[39m result = \u001b[43mminimize\u001b[49m\u001b[43m(\u001b[49m\n\u001b[32m     17\u001b[39m \u001b[43m    \u001b[49m\u001b[43mcost_func_estimator\u001b[49m\u001b[43m,\u001b[49m\n\u001b[32m     18\u001b[39m \u001b[43m    \u001b[49m\u001b[43minit_params\u001b[49m\u001b[43m,\u001b[49m\n\u001b[32m     19\u001b[39m \u001b[43m    \u001b[49m\u001b[43margs\u001b[49m\u001b[43m=\u001b[49m\u001b[43m(\u001b[49m\u001b[43mcandidate_circuit\u001b[49m\u001b[43m,\u001b[49m\u001b[43m \u001b[49m\u001b[43mcost_hamiltonian\u001b[49m\u001b[43m,\u001b[49m\u001b[43m \u001b[49m\u001b[43mestimator\u001b[49m\u001b[43m)\u001b[49m\u001b[43m,\u001b[49m\n\u001b[32m     20\u001b[39m \u001b[43m    \u001b[49m\u001b[43mmethod\u001b[49m\u001b[43m=\u001b[49m\u001b[33;43m\"\u001b[39;49m\u001b[33;43mCOBYLA\u001b[39;49m\u001b[33;43m\"\u001b[39;49m\u001b[43m,\u001b[49m\n\u001b[32m     21\u001b[39m \u001b[43m    \u001b[49m\u001b[43mtol\u001b[49m\u001b[43m=\u001b[49m\u001b[32;43m1e-2\u001b[39;49m\u001b[43m,\u001b[49m\n\u001b[32m     22\u001b[39m \u001b[43m\u001b[49m\u001b[43m)\u001b[49m\n\u001b[32m     23\u001b[39m \u001b[38;5;28mprint\u001b[39m(result)\n",
      "\u001b[36mFile \u001b[39m\u001b[32m~/repositories/personal/qc-examples/venv/lib/python3.12/site-packages/scipy/optimize/_minimize.py:744\u001b[39m, in \u001b[36mminimize\u001b[39m\u001b[34m(fun, x0, args, method, jac, hess, hessp, bounds, constraints, tol, callback, options)\u001b[39m\n\u001b[32m    741\u001b[39m     res = _minimize_tnc(fun, x0, args, jac, bounds, callback=callback,\n\u001b[32m    742\u001b[39m                         **options)\n\u001b[32m    743\u001b[39m \u001b[38;5;28;01melif\u001b[39;00m meth == \u001b[33m'\u001b[39m\u001b[33mcobyla\u001b[39m\u001b[33m'\u001b[39m:\n\u001b[32m--> \u001b[39m\u001b[32m744\u001b[39m     res = \u001b[43m_minimize_cobyla\u001b[49m\u001b[43m(\u001b[49m\u001b[43mfun\u001b[49m\u001b[43m,\u001b[49m\u001b[43m \u001b[49m\u001b[43mx0\u001b[49m\u001b[43m,\u001b[49m\u001b[43m \u001b[49m\u001b[43margs\u001b[49m\u001b[43m,\u001b[49m\u001b[43m \u001b[49m\u001b[43mconstraints\u001b[49m\u001b[43m,\u001b[49m\u001b[43m \u001b[49m\u001b[43mcallback\u001b[49m\u001b[43m=\u001b[49m\u001b[43mcallback\u001b[49m\u001b[43m,\u001b[49m\n\u001b[32m    745\u001b[39m \u001b[43m                           \u001b[49m\u001b[43mbounds\u001b[49m\u001b[43m=\u001b[49m\u001b[43mbounds\u001b[49m\u001b[43m,\u001b[49m\u001b[43m \u001b[49m\u001b[43m*\u001b[49m\u001b[43m*\u001b[49m\u001b[43moptions\u001b[49m\u001b[43m)\u001b[49m\n\u001b[32m    746\u001b[39m \u001b[38;5;28;01melif\u001b[39;00m meth == \u001b[33m'\u001b[39m\u001b[33mcobyqa\u001b[39m\u001b[33m'\u001b[39m:\n\u001b[32m    747\u001b[39m     res = _minimize_cobyqa(fun, x0, args, bounds, constraints, callback,\n\u001b[32m    748\u001b[39m                            **options)\n",
      "\u001b[36mFile \u001b[39m\u001b[32m~/repositories/personal/qc-examples/venv/lib/python3.12/site-packages/scipy/optimize/_cobyla_py.py:35\u001b[39m, in \u001b[36msynchronized.<locals>.wrapper\u001b[39m\u001b[34m(*args, **kwargs)\u001b[39m\n\u001b[32m     32\u001b[39m \u001b[38;5;129m@functools\u001b[39m.wraps(func)\n\u001b[32m     33\u001b[39m \u001b[38;5;28;01mdef\u001b[39;00m\u001b[38;5;250m \u001b[39m\u001b[34mwrapper\u001b[39m(*args, **kwargs):\n\u001b[32m     34\u001b[39m     \u001b[38;5;28;01mwith\u001b[39;00m _module_lock:\n\u001b[32m---> \u001b[39m\u001b[32m35\u001b[39m         \u001b[38;5;28;01mreturn\u001b[39;00m \u001b[43mfunc\u001b[49m\u001b[43m(\u001b[49m\u001b[43m*\u001b[49m\u001b[43margs\u001b[49m\u001b[43m,\u001b[49m\u001b[43m \u001b[49m\u001b[43m*\u001b[49m\u001b[43m*\u001b[49m\u001b[43mkwargs\u001b[49m\u001b[43m)\u001b[49m\n",
      "\u001b[36mFile \u001b[39m\u001b[32m~/repositories/personal/qc-examples/venv/lib/python3.12/site-packages/scipy/optimize/_cobyla_py.py:293\u001b[39m, in \u001b[36m_minimize_cobyla\u001b[39m\u001b[34m(fun, x0, args, constraints, rhobeg, tol, maxiter, disp, catol, callback, bounds, **unknown_options)\u001b[39m\n\u001b[32m    290\u001b[39m         callback(np.copy(x))\n\u001b[32m    292\u001b[39m info = np.zeros(\u001b[32m4\u001b[39m, np.float64)\n\u001b[32m--> \u001b[39m\u001b[32m293\u001b[39m xopt, info = \u001b[43mcobyla\u001b[49m\u001b[43m.\u001b[49m\u001b[43mminimize\u001b[49m\u001b[43m(\u001b[49m\u001b[43mcalcfc\u001b[49m\u001b[43m,\u001b[49m\u001b[43m \u001b[49m\u001b[43mm\u001b[49m\u001b[43m=\u001b[49m\u001b[43mm\u001b[49m\u001b[43m,\u001b[49m\u001b[43m \u001b[49m\u001b[43mx\u001b[49m\u001b[43m=\u001b[49m\u001b[43mnp\u001b[49m\u001b[43m.\u001b[49m\u001b[43mcopy\u001b[49m\u001b[43m(\u001b[49m\u001b[43mx0\u001b[49m\u001b[43m)\u001b[49m\u001b[43m,\u001b[49m\u001b[43m \u001b[49m\u001b[43mrhobeg\u001b[49m\u001b[43m=\u001b[49m\u001b[43mrhobeg\u001b[49m\u001b[43m,\u001b[49m\n\u001b[32m    294\u001b[39m \u001b[43m                              \u001b[49m\u001b[43mrhoend\u001b[49m\u001b[43m=\u001b[49m\u001b[43mrhoend\u001b[49m\u001b[43m,\u001b[49m\u001b[43m \u001b[49m\u001b[43miprint\u001b[49m\u001b[43m=\u001b[49m\u001b[43miprint\u001b[49m\u001b[43m,\u001b[49m\u001b[43m \u001b[49m\u001b[43mmaxfun\u001b[49m\u001b[43m=\u001b[49m\u001b[43mmaxfun\u001b[49m\u001b[43m,\u001b[49m\n\u001b[32m    295\u001b[39m \u001b[43m                              \u001b[49m\u001b[43mdinfo\u001b[49m\u001b[43m=\u001b[49m\u001b[43minfo\u001b[49m\u001b[43m,\u001b[49m\u001b[43m \u001b[49m\u001b[43mcallback\u001b[49m\u001b[43m=\u001b[49m\u001b[43mwrapped_callback\u001b[49m\u001b[43m)\u001b[49m\n\u001b[32m    297\u001b[39m \u001b[38;5;28;01mif\u001b[39;00m info[\u001b[32m3\u001b[39m] > catol:\n\u001b[32m    298\u001b[39m     \u001b[38;5;66;03m# Check constraint violation\u001b[39;00m\n\u001b[32m    299\u001b[39m     info[\u001b[32m0\u001b[39m] = \u001b[32m4\u001b[39m\n",
      "\u001b[36mFile \u001b[39m\u001b[32m~/repositories/personal/qc-examples/venv/lib/python3.12/site-packages/scipy/optimize/_cobyla_py.py:281\u001b[39m, in \u001b[36m_minimize_cobyla.<locals>.calcfc\u001b[39m\u001b[34m(x, con)\u001b[39m\n\u001b[32m    280\u001b[39m \u001b[38;5;28;01mdef\u001b[39;00m\u001b[38;5;250m \u001b[39m\u001b[34mcalcfc\u001b[39m(x, con):\n\u001b[32m--> \u001b[39m\u001b[32m281\u001b[39m     f = \u001b[43msf\u001b[49m\u001b[43m.\u001b[49m\u001b[43mfun\u001b[49m\u001b[43m(\u001b[49m\u001b[43mx\u001b[49m\u001b[43m)\u001b[49m\n\u001b[32m    282\u001b[39m     i = \u001b[32m0\u001b[39m\n\u001b[32m    283\u001b[39m     \u001b[38;5;28;01mfor\u001b[39;00m size, c \u001b[38;5;129;01min\u001b[39;00m izip(cons_lengths, constraints):\n",
      "\u001b[36mFile \u001b[39m\u001b[32m~/repositories/personal/qc-examples/venv/lib/python3.12/site-packages/scipy/optimize/_differentiable_functions.py:326\u001b[39m, in \u001b[36mScalarFunction.fun\u001b[39m\u001b[34m(self, x)\u001b[39m\n\u001b[32m    324\u001b[39m \u001b[38;5;28;01mif\u001b[39;00m \u001b[38;5;129;01mnot\u001b[39;00m np.array_equal(x, \u001b[38;5;28mself\u001b[39m.x):\n\u001b[32m    325\u001b[39m     \u001b[38;5;28mself\u001b[39m._update_x(x)\n\u001b[32m--> \u001b[39m\u001b[32m326\u001b[39m \u001b[38;5;28;43mself\u001b[39;49m\u001b[43m.\u001b[49m\u001b[43m_update_fun\u001b[49m\u001b[43m(\u001b[49m\u001b[43m)\u001b[49m\n\u001b[32m    327\u001b[39m \u001b[38;5;28;01mreturn\u001b[39;00m \u001b[38;5;28mself\u001b[39m.f\n",
      "\u001b[36mFile \u001b[39m\u001b[32m~/repositories/personal/qc-examples/venv/lib/python3.12/site-packages/scipy/optimize/_differentiable_functions.py:295\u001b[39m, in \u001b[36mScalarFunction._update_fun\u001b[39m\u001b[34m(self)\u001b[39m\n\u001b[32m    293\u001b[39m \u001b[38;5;28;01mdef\u001b[39;00m\u001b[38;5;250m \u001b[39m\u001b[34m_update_fun\u001b[39m(\u001b[38;5;28mself\u001b[39m):\n\u001b[32m    294\u001b[39m     \u001b[38;5;28;01mif\u001b[39;00m \u001b[38;5;129;01mnot\u001b[39;00m \u001b[38;5;28mself\u001b[39m.f_updated:\n\u001b[32m--> \u001b[39m\u001b[32m295\u001b[39m         fx = \u001b[38;5;28;43mself\u001b[39;49m\u001b[43m.\u001b[49m\u001b[43m_wrapped_fun\u001b[49m\u001b[43m(\u001b[49m\u001b[38;5;28;43mself\u001b[39;49m\u001b[43m.\u001b[49m\u001b[43mx\u001b[49m\u001b[43m)\u001b[49m\n\u001b[32m    296\u001b[39m         \u001b[38;5;28;01mif\u001b[39;00m fx < \u001b[38;5;28mself\u001b[39m._lowest_f:\n\u001b[32m    297\u001b[39m             \u001b[38;5;28mself\u001b[39m._lowest_x = \u001b[38;5;28mself\u001b[39m.x\n",
      "\u001b[36mFile \u001b[39m\u001b[32m~/repositories/personal/qc-examples/venv/lib/python3.12/site-packages/scipy/optimize/_differentiable_functions.py:21\u001b[39m, in \u001b[36m_wrapper_fun.<locals>.wrapped\u001b[39m\u001b[34m(x)\u001b[39m\n\u001b[32m     17\u001b[39m ncalls[\u001b[32m0\u001b[39m] += \u001b[32m1\u001b[39m\n\u001b[32m     18\u001b[39m \u001b[38;5;66;03m# Send a copy because the user may overwrite it.\u001b[39;00m\n\u001b[32m     19\u001b[39m \u001b[38;5;66;03m# Overwriting results in undefined behaviour because\u001b[39;00m\n\u001b[32m     20\u001b[39m \u001b[38;5;66;03m# fun(self.x) will change self.x, with the two no longer linked.\u001b[39;00m\n\u001b[32m---> \u001b[39m\u001b[32m21\u001b[39m fx = \u001b[43mfun\u001b[49m\u001b[43m(\u001b[49m\u001b[43mnp\u001b[49m\u001b[43m.\u001b[49m\u001b[43mcopy\u001b[49m\u001b[43m(\u001b[49m\u001b[43mx\u001b[49m\u001b[43m)\u001b[49m\u001b[43m,\u001b[49m\u001b[43m \u001b[49m\u001b[43m*\u001b[49m\u001b[43margs\u001b[49m\u001b[43m)\u001b[49m\n\u001b[32m     22\u001b[39m \u001b[38;5;66;03m# Make sure the function returns a true scalar\u001b[39;00m\n\u001b[32m     23\u001b[39m \u001b[38;5;28;01mif\u001b[39;00m \u001b[38;5;129;01mnot\u001b[39;00m np.isscalar(fx):\n",
      "\u001b[36mCell\u001b[39m\u001b[36m \u001b[39m\u001b[32mIn[11]\u001b[39m\u001b[32m, line 8\u001b[39m, in \u001b[36mcost_func_estimator\u001b[39m\u001b[34m(params, ansatz, hamiltonian, estimator)\u001b[39m\n\u001b[32m      5\u001b[39m isa_hamiltonian = hamiltonian.apply_layout(ansatz.layout)\n\u001b[32m      7\u001b[39m pub = (ansatz, isa_hamiltonian, params)\n\u001b[32m----> \u001b[39m\u001b[32m8\u001b[39m job = \u001b[43mestimator\u001b[49m\u001b[43m.\u001b[49m\u001b[43mrun\u001b[49m\u001b[43m(\u001b[49m\u001b[43m[\u001b[49m\u001b[43mpub\u001b[49m\u001b[43m]\u001b[49m\u001b[43m)\u001b[49m\n\u001b[32m     10\u001b[39m results = job.result()[\u001b[32m0\u001b[39m]\n\u001b[32m     11\u001b[39m cost = results.data.evs\n",
      "\u001b[36mFile \u001b[39m\u001b[32m~/repositories/personal/qc-examples/venv/lib/python3.12/site-packages/qiskit_ibm_runtime/estimator.py:150\u001b[39m, in \u001b[36mEstimatorV2.run\u001b[39m\u001b[34m(self, pubs, precision)\u001b[39m\n\u001b[32m    148\u001b[39m coerced_pubs = [EstimatorPub.coerce(pub, precision) \u001b[38;5;28;01mfor\u001b[39;00m pub \u001b[38;5;129;01min\u001b[39;00m pubs]\n\u001b[32m    149\u001b[39m validate_estimator_pubs(coerced_pubs)\n\u001b[32m--> \u001b[39m\u001b[32m150\u001b[39m \u001b[38;5;28;01mreturn\u001b[39;00m \u001b[38;5;28;43mself\u001b[39;49m\u001b[43m.\u001b[49m\u001b[43m_run\u001b[49m\u001b[43m(\u001b[49m\u001b[43mcoerced_pubs\u001b[49m\u001b[43m)\u001b[49m\n",
      "\u001b[36mFile \u001b[39m\u001b[32m~/repositories/personal/qc-examples/venv/lib/python3.12/site-packages/qiskit_ibm_runtime/base_primitive.py:176\u001b[39m, in \u001b[36mBasePrimitiveV2._run\u001b[39m\u001b[34m(self, pubs)\u001b[39m\n\u001b[32m    174\u001b[39m \u001b[38;5;66;03m# Batch or Session\u001b[39;00m\n\u001b[32m    175\u001b[39m \u001b[38;5;28;01mif\u001b[39;00m \u001b[38;5;28mself\u001b[39m._mode:\n\u001b[32m--> \u001b[39m\u001b[32m176\u001b[39m     \u001b[38;5;28;01mreturn\u001b[39;00m \u001b[38;5;28;43mself\u001b[39;49m\u001b[43m.\u001b[49m\u001b[43m_mode\u001b[49m\u001b[43m.\u001b[49m\u001b[43m_run\u001b[49m\u001b[43m(\u001b[49m\n\u001b[32m    177\u001b[39m \u001b[43m        \u001b[49m\u001b[43mprogram_id\u001b[49m\u001b[43m=\u001b[49m\u001b[38;5;28;43mself\u001b[39;49m\u001b[43m.\u001b[49m\u001b[43m_program_id\u001b[49m\u001b[43m(\u001b[49m\u001b[43m)\u001b[49m\u001b[43m,\u001b[49m\n\u001b[32m    178\u001b[39m \u001b[43m        \u001b[49m\u001b[43minputs\u001b[49m\u001b[43m=\u001b[49m\u001b[43mprimitive_inputs\u001b[49m\u001b[43m,\u001b[49m\n\u001b[32m    179\u001b[39m \u001b[43m        \u001b[49m\u001b[43moptions\u001b[49m\u001b[43m=\u001b[49m\u001b[43mruntime_options\u001b[49m\u001b[43m,\u001b[49m\n\u001b[32m    180\u001b[39m \u001b[43m        \u001b[49m\u001b[43mcallback\u001b[49m\u001b[43m=\u001b[49m\u001b[43moptions_dict\u001b[49m\u001b[43m.\u001b[49m\u001b[43mget\u001b[49m\u001b[43m(\u001b[49m\u001b[33;43m\"\u001b[39;49m\u001b[33;43menvironment\u001b[39;49m\u001b[33;43m\"\u001b[39;49m\u001b[43m,\u001b[49m\u001b[43m \u001b[49m\u001b[43m{\u001b[49m\u001b[43m}\u001b[49m\u001b[43m)\u001b[49m\u001b[43m.\u001b[49m\u001b[43mget\u001b[49m\u001b[43m(\u001b[49m\u001b[33;43m\"\u001b[39;49m\u001b[33;43mcallback\u001b[39;49m\u001b[33;43m\"\u001b[39;49m\u001b[43m,\u001b[49m\u001b[43m \u001b[49m\u001b[38;5;28;43;01mNone\u001b[39;49;00m\u001b[43m)\u001b[49m\u001b[43m,\u001b[49m\n\u001b[32m    181\u001b[39m \u001b[43m        \u001b[49m\u001b[43mresult_decoder\u001b[49m\u001b[43m=\u001b[49m\u001b[43mDEFAULT_DECODERS\u001b[49m\u001b[43m.\u001b[49m\u001b[43mget\u001b[49m\u001b[43m(\u001b[49m\u001b[38;5;28;43mself\u001b[39;49m\u001b[43m.\u001b[49m\u001b[43m_program_id\u001b[49m\u001b[43m(\u001b[49m\u001b[43m)\u001b[49m\u001b[43m)\u001b[49m\u001b[43m,\u001b[49m\n\u001b[32m    182\u001b[39m \u001b[43m    \u001b[49m\u001b[43m)\u001b[49m\n\u001b[32m    184\u001b[39m \u001b[38;5;28;01mif\u001b[39;00m \u001b[38;5;28mself\u001b[39m._backend:\n\u001b[32m    185\u001b[39m     \u001b[38;5;28;01mif\u001b[39;00m get_cm_session():\n",
      "\u001b[36mFile \u001b[39m\u001b[32m~/repositories/personal/qc-examples/venv/lib/python3.12/site-packages/qiskit_ibm_runtime/session.py:42\u001b[39m, in \u001b[36m_active_session.<locals>._wrapper\u001b[39m\u001b[34m(self, *args, **kwargs)\u001b[39m\n\u001b[32m     40\u001b[39m \u001b[38;5;28;01mif\u001b[39;00m \u001b[38;5;129;01mnot\u001b[39;00m \u001b[38;5;28mself\u001b[39m._active:\n\u001b[32m     41\u001b[39m     \u001b[38;5;28;01mraise\u001b[39;00m IBMRuntimeError(\u001b[33m\"\u001b[39m\u001b[33mThe session is closed.\u001b[39m\u001b[33m\"\u001b[39m)\n\u001b[32m---> \u001b[39m\u001b[32m42\u001b[39m \u001b[38;5;28;01mreturn\u001b[39;00m \u001b[43mfunc\u001b[49m\u001b[43m(\u001b[49m\u001b[38;5;28;43mself\u001b[39;49m\u001b[43m,\u001b[49m\u001b[43m \u001b[49m\u001b[43m*\u001b[49m\u001b[43margs\u001b[49m\u001b[43m,\u001b[49m\u001b[43m \u001b[49m\u001b[43m*\u001b[49m\u001b[43m*\u001b[49m\u001b[43mkwargs\u001b[49m\u001b[43m)\u001b[49m\n",
      "\u001b[36mFile \u001b[39m\u001b[32m~/repositories/personal/qc-examples/venv/lib/python3.12/site-packages/qiskit_ibm_runtime/session.py:172\u001b[39m, in \u001b[36mSession._run\u001b[39m\u001b[34m(self, program_id, inputs, options, callback, result_decoder)\u001b[39m\n\u001b[32m    169\u001b[39m options[\u001b[33m\"\u001b[39m\u001b[33mbackend\u001b[39m\u001b[33m\"\u001b[39m] = \u001b[38;5;28mself\u001b[39m._backend\n\u001b[32m    171\u001b[39m \u001b[38;5;28;01mif\u001b[39;00m \u001b[38;5;28misinstance\u001b[39m(\u001b[38;5;28mself\u001b[39m._service, QiskitRuntimeService):\n\u001b[32m--> \u001b[39m\u001b[32m172\u001b[39m     job = \u001b[38;5;28;43mself\u001b[39;49m\u001b[43m.\u001b[49m\u001b[43m_service\u001b[49m\u001b[43m.\u001b[49m\u001b[43m_run\u001b[49m\u001b[43m(\u001b[49m\n\u001b[32m    173\u001b[39m \u001b[43m        \u001b[49m\u001b[43mprogram_id\u001b[49m\u001b[43m=\u001b[49m\u001b[43mprogram_id\u001b[49m\u001b[43m,\u001b[49m\u001b[43m  \u001b[49m\u001b[38;5;66;43;03m# type: ignore[arg-type]\u001b[39;49;00m\n\u001b[32m    174\u001b[39m \u001b[43m        \u001b[49m\u001b[43moptions\u001b[49m\u001b[43m=\u001b[49m\u001b[43moptions\u001b[49m\u001b[43m,\u001b[49m\n\u001b[32m    175\u001b[39m \u001b[43m        \u001b[49m\u001b[43minputs\u001b[49m\u001b[43m=\u001b[49m\u001b[43minputs\u001b[49m\u001b[43m,\u001b[49m\n\u001b[32m    176\u001b[39m \u001b[43m        \u001b[49m\u001b[43msession_id\u001b[49m\u001b[43m=\u001b[49m\u001b[38;5;28;43mself\u001b[39;49m\u001b[43m.\u001b[49m\u001b[43m_session_id\u001b[49m\u001b[43m,\u001b[49m\n\u001b[32m    177\u001b[39m \u001b[43m        \u001b[49m\u001b[43mstart_session\u001b[49m\u001b[43m=\u001b[49m\u001b[38;5;28;43;01mFalse\u001b[39;49;00m\u001b[43m,\u001b[49m\n\u001b[32m    178\u001b[39m \u001b[43m        \u001b[49m\u001b[43mcallback\u001b[49m\u001b[43m=\u001b[49m\u001b[43mcallback\u001b[49m\u001b[43m,\u001b[49m\n\u001b[32m    179\u001b[39m \u001b[43m        \u001b[49m\u001b[43mresult_decoder\u001b[49m\u001b[43m=\u001b[49m\u001b[43mresult_decoder\u001b[49m\u001b[43m,\u001b[49m\n\u001b[32m    180\u001b[39m \u001b[43m    \u001b[49m\u001b[43m)\u001b[49m\n\u001b[32m    182\u001b[39m     \u001b[38;5;28;01mif\u001b[39;00m \u001b[38;5;28mself\u001b[39m._backend \u001b[38;5;129;01mis\u001b[39;00m \u001b[38;5;28;01mNone\u001b[39;00m:\n\u001b[32m    183\u001b[39m         \u001b[38;5;28mself\u001b[39m._backend = job.backend()\n",
      "\u001b[36mFile \u001b[39m\u001b[32m~/repositories/personal/qc-examples/venv/lib/python3.12/site-packages/qiskit_ibm_runtime/qiskit_runtime_service.py:1134\u001b[39m, in \u001b[36mQiskitRuntimeService._run\u001b[39m\u001b[34m(self, program_id, inputs, options, callback, result_decoder, session_id, start_session)\u001b[39m\n\u001b[32m   1132\u001b[39m     \u001b[38;5;28;01mif\u001b[39;00m ex.status_code == \u001b[32m404\u001b[39m:\n\u001b[32m   1133\u001b[39m         \u001b[38;5;28;01mraise\u001b[39;00m RuntimeProgramNotFound(\u001b[33mf\u001b[39m\u001b[33m\"\u001b[39m\u001b[33mProgram not found: \u001b[39m\u001b[38;5;132;01m{\u001b[39;00mex.message\u001b[38;5;132;01m}\u001b[39;00m\u001b[33m\"\u001b[39m) \u001b[38;5;28;01mfrom\u001b[39;00m\u001b[38;5;250m \u001b[39m\u001b[38;5;28;01mNone\u001b[39;00m\n\u001b[32m-> \u001b[39m\u001b[32m1134\u001b[39m     \u001b[38;5;28;01mraise\u001b[39;00m IBMRuntimeError(\u001b[33mf\u001b[39m\u001b[33m\"\u001b[39m\u001b[33mFailed to run program: \u001b[39m\u001b[38;5;132;01m{\u001b[39;00mex\u001b[38;5;132;01m}\u001b[39;00m\u001b[33m\"\u001b[39m) \u001b[38;5;28;01mfrom\u001b[39;00m\u001b[38;5;250m \u001b[39m\u001b[38;5;28;01mNone\u001b[39;00m\n\u001b[32m   1136\u001b[39m \u001b[38;5;28;01mif\u001b[39;00m response[\u001b[33m\"\u001b[39m\u001b[33mbackend\u001b[39m\u001b[33m\"\u001b[39m] \u001b[38;5;129;01mand\u001b[39;00m response[\u001b[33m\"\u001b[39m\u001b[33mbackend\u001b[39m\u001b[33m\"\u001b[39m] != qrt_options.get_backend_name():\n\u001b[32m   1137\u001b[39m     backend = \u001b[38;5;28mself\u001b[39m.backend(name=response[\u001b[33m\"\u001b[39m\u001b[33mbackend\u001b[39m\u001b[33m\"\u001b[39m], instance=hgp_name)\n",
      "\u001b[31mIBMRuntimeError\u001b[39m: 'Failed to run program: \\'400 Client Error: Bad Request for url: https://api.quantum.ibm.com/runtime/jobs. {\"errors\":[{\"code\":1217,\"message\":\"Session has been closed.\",\"solution\":\"Reduce time between submitting subsequent jobs in a session.\",\"more_info\":\"https://docs.quantum-computing.ibm.com/errors\"}]}\\''"
     ]
    }
   ],
   "source": [
    "from qiskit_ibm_runtime import Session, EstimatorV2 as Estimator\n",
    "from scipy.optimize import minimize\n",
    "\n",
    "objective_func_vals = [] # Global variable\n",
    "with Session(backend=backend) as session:\n",
    "    # If using qiskit-ibm-runtime<0.24.0, change `mode=` to `session=`\n",
    "    estimator = Estimator(mode=session)\n",
    "    estimator.options.default_shots = 1000\n",
    "\n",
    "    # Set simple error suppression/mitigation options\n",
    "    estimator.options.dynamical_decoupling.enable = True\n",
    "    estimator.options.dynamical_decoupling.sequence_type = \"XY4\"\n",
    "    estimator.options.twirling.enable_gates = True\n",
    "    estimator.options.twirling.num_randomizations = \"auto\"\n",
    "\n",
    "    result = minimize(\n",
    "        cost_func_estimator,\n",
    "        init_params,\n",
    "        args=(candidate_circuit, cost_hamiltonian, estimator),\n",
    "        method=\"COBYLA\",\n",
    "        tol=1e-2,\n",
    "    )\n",
    "    print(result)"
   ]
  }
 ],
 "metadata": {
  "kernelspec": {
   "display_name": "venv",
   "language": "python",
   "name": "python3"
  },
  "language_info": {
   "codemirror_mode": {
    "name": "ipython",
    "version": 3
   },
   "file_extension": ".py",
   "mimetype": "text/x-python",
   "name": "python",
   "nbconvert_exporter": "python",
   "pygments_lexer": "ipython3",
   "version": "3.12.3"
  }
 },
 "nbformat": 4,
 "nbformat_minor": 2
}
