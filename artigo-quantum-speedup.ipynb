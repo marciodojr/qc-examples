{
 "cells": [
  {
   "cell_type": "code",
   "execution_count": 230,
   "id": "22b18457",
   "metadata": {},
   "outputs": [],
   "source": [
    "import networkx as nx\n",
    "import random\n",
    "import sympy as sp\n",
    "import IPython.display as disp\n",
    "from typing import List, Tuple\n",
    "from natsort import natsorted\n",
    "\n",
    "from qiskit import QuantumCircuit, ClassicalRegister, QuantumRegister, transpile\n",
    "import numpy as np\n",
    "import qiskit.circuit.library as qilib\n",
    "import qiskit.quantum_info as qi\n",
    "from qiskit_aer import AerSimulator\n",
    "from qiskit.visualization import plot_histogram, plot_bloch_multivector"
   ]
  },
  {
   "cell_type": "code",
   "execution_count": 231,
   "id": "6125345c",
   "metadata": {},
   "outputs": [
    {
     "data": {
      "image/png": "[encoded data removed]",
      "text/plain": [
       "<Figure size 640x480 with 1 Axes>"
      ]
     },
     "metadata": {},
     "output_type": "display_data"
    }
   ],
   "source": [
    "graph = nx.Graph()\n",
    "\n",
    "vertices_list = ['v1', 'v2', 'v3']\n",
    "edges_list = [('v1', 'v2'), ('v2', 'v3')]\n",
    "\n",
    "# vertices_list = ['v1', 'v2', 'v3', 'v4', 'v5']\n",
    "# edges_list = [\n",
    "#     ('v1', 'v2'),\n",
    "#     ('v1', 'v3'),\n",
    "#     ('v1', 'v5'),\n",
    "#     ('v2', 'v3'),\n",
    "#     ('v3', 'v4'),\n",
    "#     ('v4', 'v5'),\n",
    "# ]\n",
    "\n",
    "num_vertices = len(vertices_list)\n",
    "num_edges = len(edges_list)\n",
    "\n",
    "graph.add_nodes_from(vertices_list)\n",
    "graph.add_edges_from(edges_list)\n",
    "\n",
    "pos = nx.circular_layout(graph)\n",
    "nx.draw(graph, pos, with_labels=True, node_color='lightblue', node_size=500, font_size=12)"
   ]
  },
  {
   "cell_type": "code",
   "execution_count": 241,
   "id": "e11888aa",
   "metadata": {},
   "outputs": [],
   "source": [
    "# f(xk, xp) = 1 => a aresta (vk, vp) pertence ao corte\n",
    "def f(xk: bool, xp: bool) -> bool:\n",
    "    return (xk and (not xp) ) or ((not xk) and xp)\n",
    "\n",
    "# g(xk, xp) = 1 => a aresta (vk, vp) não pertence ao corte\n",
    "def g(xk: bool, xp: bool) -> bool:\n",
    "    return ((not xk) and (not xp) ) or (xk and xp)\n",
    "\n",
    "# função auxiliar para geração de um corte aleatório\n",
    "def random_cut(n: int) -> list:\n",
    "    rcut = [random.randint(0,1) for _ in range(n)]\n",
    "    return rcut\n",
    "\n",
    "def print_matrix(z: list) -> None:\n",
    "    disp.display(disp.Math(f\"z=\"+sp.latex(sp.Matrix(z))))\n",
    "\n",
    "def cut_z(dic_v: dict, edge: Tuple, x: list, n: int, m: int) -> list:\n",
    "    z = [[0 for _ in range(m+1)] for _ in range(m+1)]\n",
    "    vk = edge[0]\n",
    "    vp = edge[1]\n",
    "\n",
    "    k = dic_v[vk]\n",
    "    p = dic_v[vp]\n",
    "\n",
    "    edge_cut = f(x[k], x[p])\n",
    "    no_cut_edge = g(x[k], x[p])\n",
    "\n",
    "    z[1][1] = int(edge_cut)\n",
    "    z[1][0] = int(no_cut_edge)\n",
    "\n",
    "    for i in range(1, m):\n",
    "        for j in range(i, 0, -1):\n",
    "            z[i+1][j+1] = int(edge_cut and z[i][j])\n",
    "            z[i+1][j] = int(no_cut_edge and z[i][j])\n",
    "\n",
    "    return z\n",
    "\n",
    "def partition_from_cut(x: List[int]) -> Tuple[List[str], List[str]]:\n",
    "    V1 = []\n",
    "    V2 = []\n",
    "    n = len(x)\n",
    "    for idx, xi in enumerate(x):\n",
    "        if xi == 1:\n",
    "            V1.append(f\"v{n-idx}\")\n",
    "        else:\n",
    "            V2.append(f\"v{n-idx}\")\n",
    "    return V1, V2\n",
    "\n",
    "def print_cut(vertices: list, edges: list, x: List) -> None:\n",
    "    p1, p2 = partition_from_cut(x)\n",
    "    V1 = sp.FiniteSet(*p1)\n",
    "    V2 = sp.FiniteSet(*p2)\n",
    "\n",
    "    xs = ''.join([f'x_{{{i}}}' for i in range(len(x), 0, -1)])\n",
    "\n",
    "    latex_strx = f\"x={xs}=\"+ sp.latex(sp.Tuple(*x))\n",
    "    latex_strv = r\"V_1 = \" + sp.latex(V1) + r\", V_2 = \" + sp.latex(V2)\n",
    "    \n",
    "    disp.display(disp.Math(latex_strx))\n",
    "    disp.display(disp.Math(latex_strv))\n",
    "\n",
    "    sorted_v = natsorted(vertices, reverse=True)\n",
    "    dic_v = {v: i for i, v in enumerate(sorted_v)}\n",
    "\n",
    "    cut_size = 0\n",
    "    for edge in edges:\n",
    "        z = cut_z(dic_v, edge, x, n, m)\n",
    "        cut_size += z[m][m]\n",
    "        z = sp.Matrix(z)\n",
    "        latex_strz = r\"z_{\"+sp.latex(sp.Tuple(*edge))+r\"}=\" + sp.latex(z)\n",
    "\n",
    "        disp.display(disp.Math(latex_strz))\n",
    "    print(\"cut size=\", cut_size)"
   ]
  },
  {
   "cell_type": "code",
   "execution_count": 233,
   "id": "f3fbf0fe",
   "metadata": {},
   "outputs": [
    {
     "data": {
      "text/latex": [
       "$\\displaystyle x=x_{3}x_{2}x_{1}=\\left( 1, \\  1, \\  1\\right)$"
      ],
      "text/plain": [
       "<IPython.core.display.Math object>"
      ]
     },
     "metadata": {},
     "output_type": "display_data"
    },
    {
     "data": {
      "text/latex": [
       "$\\displaystyle V_1 = \\left\\{v_{1}, v_{2}, v_{3}\\right\\}, V_2 = \\emptyset$"
      ],
      "text/plain": [
       "<IPython.core.display.Math object>"
      ]
     },
     "metadata": {},
     "output_type": "display_data"
    },
    {
     "data": {
      "text/latex": [
       "$\\displaystyle z_{\\left( v_{1}, \\  v_{2}\\right)}=\\left[\\begin{matrix}0 & 0 & 0\\\\1 & 0 & 0\\\\0 & 0 & 0\\end{matrix}\\right]$"
      ],
      "text/plain": [
       "<IPython.core.display.Math object>"
      ]
     },
     "metadata": {},
     "output_type": "display_data"
    },
    {
     "data": {
      "text/latex": [
       "$\\displaystyle z_{\\left( v_{2}, \\  v_{3}\\right)}=\\left[\\begin{matrix}0 & 0 & 0\\\\1 & 0 & 0\\\\0 & 0 & 0\\end{matrix}\\right]$"
      ],
      "text/plain": [
       "<IPython.core.display.Math object>"
      ]
     },
     "metadata": {},
     "output_type": "display_data"
    },
    {
     "name": "stdout",
     "output_type": "stream",
     "text": [
      "cut size= 0\n"
     ]
    },
    {
     "data": {
      "text/latex": [
       "$\\displaystyle x=x_{3}x_{2}x_{1}=\\left( 0, \\  0, \\  1\\right)$"
      ],
      "text/plain": [
       "<IPython.core.display.Math object>"
      ]
     },
     "metadata": {},
     "output_type": "display_data"
    },
    {
     "data": {
      "text/latex": [
       "$\\displaystyle V_1 = \\left\\{v_{1}\\right\\}, V_2 = \\left\\{v_{2}, v_{3}\\right\\}$"
      ],
      "text/plain": [
       "<IPython.core.display.Math object>"
      ]
     },
     "metadata": {},
     "output_type": "display_data"
    },
    {
     "data": {
      "text/latex": [
       "$\\displaystyle z_{\\left( v_{1}, \\  v_{2}\\right)}=\\left[\\begin{matrix}0 & 0 & 0\\\\0 & 1 & 0\\\\0 & 0 & 1\\end{matrix}\\right]$"
      ],
      "text/plain": [
       "<IPython.core.display.Math object>"
      ]
     },
     "metadata": {},
     "output_type": "display_data"
    },
    {
     "data": {
      "text/latex": [
       "$\\displaystyle z_{\\left( v_{2}, \\  v_{3}\\right)}=\\left[\\begin{matrix}0 & 0 & 0\\\\1 & 0 & 0\\\\0 & 0 & 0\\end{matrix}\\right]$"
      ],
      "text/plain": [
       "<IPython.core.display.Math object>"
      ]
     },
     "metadata": {},
     "output_type": "display_data"
    },
    {
     "name": "stdout",
     "output_type": "stream",
     "text": [
      "cut size= 1\n"
     ]
    },
    {
     "data": {
      "text/latex": [
       "$\\displaystyle x=x_{3}x_{2}x_{1}=\\left( 0, \\  1, \\  1\\right)$"
      ],
      "text/plain": [
       "<IPython.core.display.Math object>"
      ]
     },
     "metadata": {},
     "output_type": "display_data"
    },
    {
     "data": {
      "text/latex": [
       "$\\displaystyle V_1 = \\left\\{v_{1}, v_{2}\\right\\}, V_2 = \\left\\{v_{3}\\right\\}$"
      ],
      "text/plain": [
       "<IPython.core.display.Math object>"
      ]
     },
     "metadata": {},
     "output_type": "display_data"
    },
    {
     "data": {
      "text/latex": [
       "$\\displaystyle z_{\\left( v_{1}, \\  v_{2}\\right)}=\\left[\\begin{matrix}0 & 0 & 0\\\\1 & 0 & 0\\\\0 & 0 & 0\\end{matrix}\\right]$"
      ],
      "text/plain": [
       "<IPython.core.display.Math object>"
      ]
     },
     "metadata": {},
     "output_type": "display_data"
    },
    {
     "data": {
      "text/latex": [
       "$\\displaystyle z_{\\left( v_{2}, \\  v_{3}\\right)}=\\left[\\begin{matrix}0 & 0 & 0\\\\0 & 1 & 0\\\\0 & 0 & 1\\end{matrix}\\right]$"
      ],
      "text/plain": [
       "<IPython.core.display.Math object>"
      ]
     },
     "metadata": {},
     "output_type": "display_data"
    },
    {
     "name": "stdout",
     "output_type": "stream",
     "text": [
      "cut size= 1\n"
     ]
    },
    {
     "data": {
      "text/latex": [
       "$\\displaystyle x=x_{3}x_{2}x_{1}=\\left( 1, \\  0, \\  1\\right)$"
      ],
      "text/plain": [
       "<IPython.core.display.Math object>"
      ]
     },
     "metadata": {},
     "output_type": "display_data"
    },
    {
     "data": {
      "text/latex": [
       "$\\displaystyle V_1 = \\left\\{v_{1}, v_{3}\\right\\}, V_2 = \\left\\{v_{2}\\right\\}$"
      ],
      "text/plain": [
       "<IPython.core.display.Math object>"
      ]
     },
     "metadata": {},
     "output_type": "display_data"
    },
    {
     "data": {
      "text/latex": [
       "$\\displaystyle z_{\\left( v_{1}, \\  v_{2}\\right)}=\\left[\\begin{matrix}0 & 0 & 0\\\\0 & 1 & 0\\\\0 & 0 & 1\\end{matrix}\\right]$"
      ],
      "text/plain": [
       "<IPython.core.display.Math object>"
      ]
     },
     "metadata": {},
     "output_type": "display_data"
    },
    {
     "data": {
      "text/latex": [
       "$\\displaystyle z_{\\left( v_{2}, \\  v_{3}\\right)}=\\left[\\begin{matrix}0 & 0 & 0\\\\0 & 1 & 0\\\\0 & 0 & 1\\end{matrix}\\right]$"
      ],
      "text/plain": [
       "<IPython.core.display.Math object>"
      ]
     },
     "metadata": {},
     "output_type": "display_data"
    },
    {
     "name": "stdout",
     "output_type": "stream",
     "text": [
      "cut size= 2\n"
     ]
    },
    {
     "data": {
      "text/latex": [
       "$\\displaystyle x=x_{3}x_{2}x_{1}=\\left( 1, \\  1, \\  1\\right)$"
      ],
      "text/plain": [
       "<IPython.core.display.Math object>"
      ]
     },
     "metadata": {},
     "output_type": "display_data"
    },
    {
     "data": {
      "text/latex": [
       "$\\displaystyle V_1 = \\left\\{v_{1}, v_{2}, v_{3}\\right\\}, V_2 = \\emptyset$"
      ],
      "text/plain": [
       "<IPython.core.display.Math object>"
      ]
     },
     "metadata": {},
     "output_type": "display_data"
    },
    {
     "data": {
      "text/latex": [
       "$\\displaystyle z_{\\left( v_{1}, \\  v_{2}\\right)}=\\left[\\begin{matrix}0 & 0 & 0\\\\1 & 0 & 0\\\\0 & 0 & 0\\end{matrix}\\right]$"
      ],
      "text/plain": [
       "<IPython.core.display.Math object>"
      ]
     },
     "metadata": {},
     "output_type": "display_data"
    },
    {
     "data": {
      "text/latex": [
       "$\\displaystyle z_{\\left( v_{2}, \\  v_{3}\\right)}=\\left[\\begin{matrix}0 & 0 & 0\\\\1 & 0 & 0\\\\0 & 0 & 0\\end{matrix}\\right]$"
      ],
      "text/plain": [
       "<IPython.core.display.Math object>"
      ]
     },
     "metadata": {},
     "output_type": "display_data"
    },
    {
     "name": "stdout",
     "output_type": "stream",
     "text": [
      "cut size= 0\n"
     ]
    }
   ],
   "source": [
    "cut_list = [random_cut(num_vertices) for _ in range(5)]\n",
    "\n",
    "for x in cut_list:\n",
    "    print_cut(vertices_list, edges_list, x)"
   ]
  },
  {
   "cell_type": "markdown",
   "id": "7b2415cd",
   "metadata": {},
   "source": [
    "### Circuito para o corte máximo\n",
    "\n",
    "1. inicialização do circuito\n",
    "\n",
    "$$\n",
    "\\ket{\\varphi_0} = \\bigotimes_{d=n}^1 \\ket{x_d^0} = \\ket{x^0_n\\dotso x^0_2x^0_1} = \\ket{\\underbrace{0\\dotso00}_{n\\text{ termos}}}\n",
    "$$\n",
    "\n",
    "2. aplicação do operador de Hadamard\n",
    "\n",
    "$$\n",
    "\\ket{\\varphi_1}H^{\\otimes^n}\\ket{\\varphi_0} = \\frac{\\bigotimes_{d=n}^1 (\\ket{x_d^0} + \\ket{x_d^1})}{\\sqrt{2^n}} = \\sum_{x=0}^{2^n-1}\\frac{\\ket{x}}{\\sqrt{2^n}}.\n",
    "$$\n",
    "\n",
    "Considerações:\n",
    "\n",
    "1. O estado $\\ket{x^0_n\\dotso x_1^0}$ em $\\ket{\\varphi_1}$ codifica a partição de $n$ vértices dos conjuntos $V_1 = \\emptyset$ e $V_2=\\{v_n, \\dotso, v_1\\}$.\n",
    "2. O estado $\\ket{x^0_n\\dotso x^0_2x_1^1}$ em $\\ket{\\varphi_1}$ codifica a partição de $n$ vértices dos conjuntos $V_1 = \\{v_1\\}$ e $V_2=\\{v_n, \\dotso,v_2\\}$.\n"
   ]
  },
  {
   "cell_type": "markdown",
   "id": "8b215658",
   "metadata": {},
   "source": [
    "### Determinando o conjunto do córte para as arestas\n",
    "\n",
    "Para determinar a qual parte do corte a aresta pertence, introduzimos qubits auxiliares\n",
    "\n",
    "$$\n",
    "\\ket{r_{j,s}}, 1\\leq j\\leq \\frac{m(m+1)}{2}, 1\\leq s\\leq 4\n",
    "$$\n",
    "\n",
    "Esses qubits auxiliares tem o propósito de armazenar resultados das operações:\n",
    "\n",
    "- $x_k\\wedge \\overline{x_p}$\n",
    "- $\\overline{x_k}\\wedge x_p$\n",
    "- $\\overline{x_k}\\wedge \\overline{x_p}$\n",
    "- $x_k\\wedge x_p$\n",
    "\n",
    "Além desses qubits precisamos de outros qubits auxiliares\n",
    "\n",
    "$$\n",
    "\\ket{s_{j,1}}, \\ket{s_{j,2}}, 1 \\leq j \\leq \\frac{m(m+1)}{2}\n",
    "$$\n",
    "\n",
    "que são inicializados com o valor $1$ e que serão utilizados para avaliar as expressões:\n",
    "\n",
    "- $\\ket{r_{j, 1}} \\vee \\ket{r_{j, 2}}$\n",
    "- $\\ket{r_{j, 3}} \\vee \\ket{r_{j, 4}}$"
   ]
  },
  {
   "cell_type": "code",
   "execution_count": 275,
   "id": "c74993c4",
   "metadata": {},
   "outputs": [
    {
     "name": "stdout",
     "output_type": "stream",
     "text": [
      "3 12 6 5\n"
     ]
    }
   ],
   "source": [
    "'''\n",
    "Create the quantum circuit for the example\n",
    "'''\n",
    "\n",
    "range_z = int((((num_edges + 1) * (num_edges + 2)) / 2) - 1)\n",
    "range_r = int(4 * (num_edges * (num_edges + 1)) / 2)\n",
    "range_s = int(2 * (num_edges * (num_edges + 1)) / 2)\n",
    "\n",
    "aux = QuantumRegister(1, 'aux')\n",
    "\n",
    "x_reg = QuantumRegister(num_vertices, 'x')\n",
    "r_reg = QuantumRegister(range_r, 'r')\n",
    "s_reg = QuantumRegister(range_s, 's')\n",
    "\n",
    "z_reg = QuantumRegister(range_z, 'z')\n",
    "readout = ClassicalRegister(num_vertices, 'out')\n",
    "\n",
    "qc = QuantumCircuit(aux, x_reg, r_reg, s_reg, z_reg, readout, name=\"max_cut\")\n",
    "\n",
    "qc.x(aux)\n",
    "qc.h(aux)\n",
    "\n",
    "'''\n",
    "Initialize the system and set it in a uniform superpostion   -> lines 1 and 2 of Algorithm 1 in paper\n",
    "'''\n",
    "\n",
    "for qubit in s_reg:\n",
    "    qc.x(qubit)\n",
    "\n",
    "for qubit in x_reg:\n",
    "    qc.h(qubit)\n",
    "    \n",
    "qc.barrier()\n",
    "\n",
    "print(num_vertices, range_r, range_s, range_z)"
   ]
  },
  {
   "cell_type": "code",
   "execution_count": 276,
   "id": "30858e9f",
   "metadata": {},
   "outputs": [
    {
     "data": {
      "text/latex": [
       "$\\displaystyle z=\\left[\\begin{matrix}0 & 0 & 0\\\\0 & 1 & 0\\\\2 & 3 & 4\\end{matrix}\\right]$"
      ],
      "text/plain": [
       "<IPython.core.display.Math object>"
      ]
     },
     "metadata": {},
     "output_type": "display_data"
    }
   ],
   "source": [
    "'''\n",
    "Create z_matrix to store elements of z_reg\n",
    "'''\n",
    "\n",
    "z_matrix = [ [ 0 for i in range(num_edges + 1) ] for j in range(num_edges + 1) ]\n",
    "zij = 0\n",
    "for i in range(1, num_edges + 1):\n",
    "    for j in range(i + 1):\n",
    "        z_matrix[i][j] = zij\n",
    "        zij += 1\n",
    "\n",
    "print_matrix(z_matrix)"
   ]
  },
  {
   "cell_type": "code",
   "execution_count": 277,
   "id": "c2b26c74",
   "metadata": {},
   "outputs": [],
   "source": [
    "'''\n",
    "Define the CFE subcircuit\n",
    "'''\n",
    "\n",
    "sq = QuantumRegister(10,'sq')\n",
    "sc = QuantumCircuit(sq, name='CFE')\n",
    "\n",
    "# EIIAC\n",
    "sc.x(sq[1])\n",
    "sc.ccx(sq[0], sq[1], sq[2])\n",
    "sc.x(sq[0])\n",
    "sc.x(sq[1])\n",
    "sc.ccx(sq[0], sq[1], sq[3])\n",
    "sc.x(sq[0])\n",
    "sc.x(sq[2])\n",
    "sc.x(sq[3])\n",
    "sc.ccx(sq[2], sq[3], sq[6])\n",
    "sc.x(sq[2])\n",
    "sc.x(sq[3])\n",
    "\n",
    "# EINIAC\n",
    "sc.x(sq[0])\n",
    "sc.x(sq[1])\n",
    "sc.ccx(sq[0], sq[1], sq[4])\n",
    "sc.x(sq[0])\n",
    "sc.x(sq[1])\n",
    "sc.ccx(sq[0], sq[1], sq[5])\n",
    "sc.x(sq[4])\n",
    "sc.x(sq[5])\n",
    "sc.ccx(sq[4], sq[5], sq[7])\n",
    "sc.x(sq[4])\n",
    "sc.x(sq[5])\n",
    "\n",
    "# CNOTS\n",
    "sc.cx(sq[6], sq[9])\n",
    "sc.cx(sq[7], sq[8])\n",
    "    \n",
    "cfe = sc.to_instruction()"
   ]
  },
  {
   "cell_type": "code",
   "execution_count": 278,
   "id": "030f5b0e",
   "metadata": {},
   "outputs": [],
   "source": [
    "'''\n",
    "Define the CSE subcircuit\n",
    "'''\n",
    "\n",
    "cq = QuantumRegister(11,'cq')     \n",
    "ce = QuantumCircuit(cq, name='CSE')\n",
    "\n",
    "# EIIAC\n",
    "ce.x(cq[1])\n",
    "ce.ccx(cq[0], cq[1], cq[2])\n",
    "ce.x(cq[0])\n",
    "ce.x(cq[1])\n",
    "ce.ccx(cq[0], cq[1], cq[3])\n",
    "ce.x(cq[0])\n",
    "ce.x(cq[2])\n",
    "ce.x(cq[3])\n",
    "ce.ccx(cq[2], cq[3], cq[6])\n",
    "ce.x(cq[2])\n",
    "ce.x(cq[3])\n",
    "\n",
    "# EINIAC\n",
    "ce.x(cq[0])\n",
    "ce.x(cq[1])\n",
    "ce.ccx(cq[0], cq[1], cq[4])\n",
    "ce.x(cq[0])\n",
    "ce.x(cq[1])\n",
    "ce.ccx(cq[0], cq[1], cq[5])\n",
    "ce.x(cq[4])\n",
    "ce.x(cq[5])\n",
    "ce.ccx(cq[4], cq[5], cq[7])\n",
    "ce.x(cq[4])\n",
    "ce.x(cq[5])\n",
    "\n",
    "# CNOTS\n",
    "ce.ccx(cq[6], cq[8], cq[9])\n",
    "ce.ccx(cq[7], cq[8], cq[10])\n",
    "\n",
    "cse = ce.to_instruction()"
   ]
  },
  {
   "cell_type": "code",
   "execution_count": 279,
   "id": "8e9ef02b",
   "metadata": {},
   "outputs": [
    {
     "data": {
      "text/html": [
       "<pre style=\"word-wrap: normal;white-space: pre;background: #fff0;line-height: 1.1;font-family: &quot;Courier New&quot;,Courier,monospace\">       ┌───┐┌───┐ ░ \n",
       "  aux: ┤ X ├┤ H ├─░─\n",
       "       ├───┤└───┘ ░ \n",
       "  x_0: ┤ H ├──────░─\n",
       "       ├───┤      ░ \n",
       "  x_1: ┤ H ├──────░─\n",
       "       ├───┤      ░ \n",
       "  x_2: ┤ H ├──────░─\n",
       "       └───┘      ░ \n",
       "  r_0: ───────────░─\n",
       "                  ░ \n",
       "  r_1: ───────────░─\n",
       "                  ░ \n",
       "  r_2: ───────────░─\n",
       "                  ░ \n",
       "  r_3: ───────────░─\n",
       "                  ░ \n",
       "  r_4: ───────────░─\n",
       "                  ░ \n",
       "  r_5: ───────────░─\n",
       "                  ░ \n",
       "  r_6: ───────────░─\n",
       "                  ░ \n",
       "  r_7: ───────────░─\n",
       "                  ░ \n",
       "  r_8: ───────────░─\n",
       "                  ░ \n",
       "  r_9: ───────────░─\n",
       "                  ░ \n",
       " r_10: ───────────░─\n",
       "                  ░ \n",
       " r_11: ───────────░─\n",
       "       ┌───┐      ░ \n",
       "  s_0: ┤ X ├──────░─\n",
       "       ├───┤      ░ \n",
       "  s_1: ┤ X ├──────░─\n",
       "       ├───┤      ░ \n",
       "  s_2: ┤ X ├──────░─\n",
       "       ├───┤      ░ \n",
       "  s_3: ┤ X ├──────░─\n",
       "       ├───┤      ░ \n",
       "  s_4: ┤ X ├──────░─\n",
       "       ├───┤      ░ \n",
       "  s_5: ┤ X ├──────░─\n",
       "       └───┘      ░ \n",
       "  z_0: ───────────░─\n",
       "                  ░ \n",
       "  z_1: ───────────░─\n",
       "                  ░ \n",
       "  z_2: ───────────░─\n",
       "                  ░ \n",
       "  z_3: ───────────░─\n",
       "                  ░ \n",
       "  z_4: ───────────░─\n",
       "                  ░ \n",
       "out: 3/═════════════\n",
       "                    </pre>"
      ],
      "text/plain": [
       "       ┌───┐┌───┐ ░ \n",
       "  aux: ┤ X ├┤ H ├─░─\n",
       "       ├───┤└───┘ ░ \n",
       "  x_0: ┤ H ├──────░─\n",
       "       ├───┤      ░ \n",
       "  x_1: ┤ H ├──────░─\n",
       "       ├───┤      ░ \n",
       "  x_2: ┤ H ├──────░─\n",
       "       └───┘      ░ \n",
       "  r_0: ───────────░─\n",
       "                  ░ \n",
       "  r_1: ───────────░─\n",
       "                  ░ \n",
       "  r_2: ───────────░─\n",
       "                  ░ \n",
       "  r_3: ───────────░─\n",
       "                  ░ \n",
       "  r_4: ───────────░─\n",
       "                  ░ \n",
       "  r_5: ───────────░─\n",
       "                  ░ \n",
       "  r_6: ───────────░─\n",
       "                  ░ \n",
       "  r_7: ───────────░─\n",
       "                  ░ \n",
       "  r_8: ───────────░─\n",
       "                  ░ \n",
       "  r_9: ───────────░─\n",
       "                  ░ \n",
       " r_10: ───────────░─\n",
       "                  ░ \n",
       " r_11: ───────────░─\n",
       "       ┌───┐      ░ \n",
       "  s_0: ┤ X ├──────░─\n",
       "       ├───┤      ░ \n",
       "  s_1: ┤ X ├──────░─\n",
       "       ├───┤      ░ \n",
       "  s_2: ┤ X ├──────░─\n",
       "       ├───┤      ░ \n",
       "  s_3: ┤ X ├──────░─\n",
       "       ├───┤      ░ \n",
       "  s_4: ┤ X ├──────░─\n",
       "       ├───┤      ░ \n",
       "  s_5: ┤ X ├──────░─\n",
       "       └───┘      ░ \n",
       "  z_0: ───────────░─\n",
       "                  ░ \n",
       "  z_1: ───────────░─\n",
       "                  ░ \n",
       "  z_2: ───────────░─\n",
       "                  ░ \n",
       "  z_3: ───────────░─\n",
       "                  ░ \n",
       "  z_4: ───────────░─\n",
       "                  ░ \n",
       "out: 3/═════════════\n",
       "                    "
      ]
     },
     "execution_count": 279,
     "metadata": {},
     "output_type": "execute_result"
    }
   ],
   "source": [
    "qc.draw()"
   ]
  },
  {
   "cell_type": "markdown",
   "id": "d10ac105",
   "metadata": {},
   "source": [
    "## Referências\n",
    "\n",
    "- [Quantum Speedup for the Maximum Cut Problem](https://arxiv.org/pdf/2305.16644)\n"
   ]
  }
 ],
 "metadata": {
  "kernelspec": {
   "display_name": "venv",
   "language": "python",
   "name": "python3"
  },
  "language_info": {
   "codemirror_mode": {
    "name": "ipython",
    "version": 3
   },
   "file_extension": ".py",
   "mimetype": "text/x-python",
   "name": "python",
   "nbconvert_exporter": "python",
   "pygments_lexer": "ipython3",
   "version": "3.12.3"
  }
 },
 "nbformat": 4,
 "nbformat_minor": 5
}
