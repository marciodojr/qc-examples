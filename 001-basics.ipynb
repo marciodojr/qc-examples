{
 "cells": [
  {
   "cell_type": "markdown",
   "metadata": {},
   "source": [
    "# API Reference"
   ]
  },
  {
   "cell_type": "markdown",
   "metadata": {},
   "source": [
    "## Version\n",
    "\n",
    "[Qiskit 2.1.0](https://quantum.cloud.ibm.com/docs/en/api/qiskit)"
   ]
  },
  {
   "cell_type": "markdown",
   "metadata": {},
   "source": [
    "## Quantum circuit model (`qiskit.circuit`)\n",
    "\n",
    "### Introduction\n",
    "\n",
    "The fundamental element of quantum computing is the *quantum circuit*. A circuit will act on a predefined amount of quantum data (qubits) with unitary operations (gates), measurements and resets. In addition, a quantum circuit can contain operations on classical data, incluiding real-time computations and control-flow constructs, which are executed by the controllers of the QPU.\n",
    "\n",
    "Circuits are at a low level of abstraction when building up quantum programs. They are the construct that is used to build up to higher levels of abstraction, such as the primitives of quantum computation, which accumulate data from many shots of quantum-curcuits execution, along with advanced error-mitigation techniques and measurement optimizations, into a well-typed classical data and error statistics.\n",
    "\n",
    "In Qiskit, circuits can be defined in one of two regimes:\n",
    "\n",
    "- an abstract circuit.\n",
    "- a physical circuit.\n",
    "\n",
    "You can convert from an abstract circuit to a physical circuit by using Qiskit's transpilation package, of which the top-level access point is `transpile()`.\n",
    "\n",
    "In Qiskit, a quantum circuit is represented by the QuantumCircuit class. Bellow is an example of a quantum circuit that makes a three-qbuit Greenberger-Horne-Zeilinger (GHZ) state defined as:\n",
    "\n",
    "$$\n",
    "\\ket{\\psi} = \\frac{\\ket{000}+\\ket{111}}{\\sqrt{2}}\n",
    "$$"
   ]
  },
  {
   "cell_type": "code",
   "execution_count": 21,
   "metadata": {},
   "outputs": [
    {
     "data": {
      "text/html": [
       "<pre style=\"word-wrap: normal;white-space: pre;background: #fff0;line-height: 1.1;font-family: &quot;Courier New&quot;,Courier,monospace\">     ┌───┐          \n",
       "q_0: ┤ H ├──■────■──\n",
       "     └───┘┌─┴─┐  │  \n",
       "q_1: ─────┤ X ├──┼──\n",
       "          └───┘┌─┴─┐\n",
       "q_2: ──────────┤ X ├\n",
       "               └───┘</pre>"
      ],
      "text/plain": [
       "     ┌───┐          \n",
       "q_0: ┤ H ├──■────■──\n",
       "     └───┘┌─┴─┐  │  \n",
       "q_1: ─────┤ X ├──┼──\n",
       "          └───┘┌─┴─┐\n",
       "q_2: ──────────┤ X ├\n",
       "               └───┘"
      ]
     },
     "execution_count": 21,
     "metadata": {},
     "output_type": "execute_result"
    }
   ],
   "source": [
    "from qiskit import QuantumCircuit\n",
    " \n",
    "# Create a circuit with a register of three qubits\n",
    "circ = QuantumCircuit(3)\n",
    "# H gate on qubit 0, putting this qubit in a superposition of |0> + |1>.\n",
    "circ.h(0)\n",
    "# A CX (CNOT) gate on control qubit 0 and target qubit 1 generating a Bell state.\n",
    "circ.cx(0, 1)\n",
    "# CX (CNOT) gate on control qubit 0 and target qubit 2 resulting in a GHZ state.\n",
    "circ.cx(0, 2)\n",
    "# Draw the circuit\n",
    "circ.draw()"
   ]
  },
  {
   "cell_type": "markdown",
   "metadata": {},
   "source": [
    "### Circuit concepts and definitions\n",
    "\n",
    "There is a lot of specialized terminology around quantum circuits. Much of this is common in quantum-computing literature, while some is more specific to quantum software packages, and a small amount specific to Qiskit. This is a list of some of the important concepts as a quick reference, but does not go into detail of the fondational concepts.\n",
    "\n",
    "\n",
    "**abstract circuit**\n",
    "\n",
    "A circuit defined in terms of abstract mathematical operations and virtual qubits.\n",
    "\n",
    "**ancilla qubit**\n",
    "\n",
    "An extra qubit that is used to help implement operations on other qubits, but whose final state is not important for the program.\n",
    "\n",
    "\n"
   ]
  }
 ],
 "metadata": {
  "kernelspec": {
   "display_name": "venv",
   "language": "python",
   "name": "python3"
  },
  "language_info": {
   "codemirror_mode": {
    "name": "ipython",
    "version": 3
   },
   "file_extension": ".py",
   "mimetype": "text/x-python",
   "name": "python",
   "nbconvert_exporter": "python",
   "pygments_lexer": "ipython3",
   "version": "3.12.3"
  }
 },
 "nbformat": 4,
 "nbformat_minor": 2
}
